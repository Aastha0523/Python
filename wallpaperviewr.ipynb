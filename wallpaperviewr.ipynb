{
 "cells": [
  {
   "cell_type": "code",
   "execution_count": 6,
   "id": "9fd6f213",
   "metadata": {},
   "outputs": [],
   "source": [
    "from tkinter import *\n",
    "from PIL import ImageTk, Image\n",
    "import os #let's you navigate inside file and folder"
   ]
  },
  {
   "cell_type": "code",
   "execution_count": null,
   "id": "a42f27e8",
   "metadata": {},
   "outputs": [],
   "source": [
    "def rotate_image():\n",
    "    global counter\n",
    "    img_label.config(image=img_array[counter%len(img_array)])\n",
    "    counter = counter + 1"
   ]
  },
  {
   "cell_type": "code",
   "execution_count": 24,
   "id": "1e89ee81",
   "metadata": {},
   "outputs": [
    {
     "ename": "TclError",
     "evalue": "image \"pyimage39\" doesn't exist",
     "output_type": "error",
     "traceback": [
      "\u001b[31m---------------------------------------------------------------------------\u001b[39m",
      "\u001b[31mTclError\u001b[39m                                  Traceback (most recent call last)",
      "\u001b[36mCell\u001b[39m\u001b[36m \u001b[39m\u001b[32mIn[24]\u001b[39m\u001b[32m, line 16\u001b[39m\n\u001b[32m     13\u001b[39m     resized_img = img.resize((\u001b[32m200\u001b[39m,\u001b[32m300\u001b[39m))\n\u001b[32m     14\u001b[39m     root.img_array.append(ImageTk.PhotoImage(resized_img))\n\u001b[32m---> \u001b[39m\u001b[32m16\u001b[39m img_label = Label(root,image=root.img_array[\u001b[32m0\u001b[39m])\n\u001b[32m     17\u001b[39m img_label.pack(pady=(\u001b[32m15\u001b[39m,\u001b[32m10\u001b[39m))\n\u001b[32m     19\u001b[39m next_btn = Button(root,text=\u001b[33m'\u001b[39m\u001b[33mNext\u001b[39m\u001b[33m'\u001b[39m,bg=\u001b[33m'\u001b[39m\u001b[33mwhite\u001b[39m\u001b[33m'\u001b[39m,fg=\u001b[33m'\u001b[39m\u001b[33mblack\u001b[39m\u001b[33m'\u001b[39m,width=\u001b[32m28\u001b[39m,height=\u001b[32m2\u001b[39m,command=rotate_image)\n",
      "\u001b[36mFile \u001b[39m\u001b[32mc:\\Users\\aasth\\anaconda3\\envs\\projenv\\Lib\\tkinter\\__init__.py:3236\u001b[39m, in \u001b[36mLabel.__init__\u001b[39m\u001b[34m(self, master, cnf, **kw)\u001b[39m\n\u001b[32m   3218\u001b[39m \u001b[38;5;28;01mdef\u001b[39;00m\u001b[38;5;250m \u001b[39m\u001b[34m__init__\u001b[39m(\u001b[38;5;28mself\u001b[39m, master=\u001b[38;5;28;01mNone\u001b[39;00m, cnf={}, **kw):\n\u001b[32m   3219\u001b[39m \u001b[38;5;250m    \u001b[39m\u001b[33;03m\"\"\"Construct a label widget with the parent MASTER.\u001b[39;00m\n\u001b[32m   3220\u001b[39m \n\u001b[32m   3221\u001b[39m \u001b[33;03m    STANDARD OPTIONS\u001b[39;00m\n\u001b[32m   (...)\u001b[39m\u001b[32m   3234\u001b[39m \n\u001b[32m   3235\u001b[39m \u001b[33;03m    \"\"\"\u001b[39;00m\n\u001b[32m-> \u001b[39m\u001b[32m3236\u001b[39m     Widget.\u001b[34m__init__\u001b[39m(\u001b[38;5;28mself\u001b[39m, master, \u001b[33m'\u001b[39m\u001b[33mlabel\u001b[39m\u001b[33m'\u001b[39m, cnf, kw)\n",
      "\u001b[36mFile \u001b[39m\u001b[32mc:\\Users\\aasth\\anaconda3\\envs\\projenv\\Lib\\tkinter\\__init__.py:2647\u001b[39m, in \u001b[36mBaseWidget.__init__\u001b[39m\u001b[34m(self, master, widgetName, cnf, kw, extra)\u001b[39m\n\u001b[32m   2645\u001b[39m \u001b[38;5;28;01mfor\u001b[39;00m k, v \u001b[38;5;129;01min\u001b[39;00m classes:\n\u001b[32m   2646\u001b[39m     \u001b[38;5;28;01mdel\u001b[39;00m cnf[k]\n\u001b[32m-> \u001b[39m\u001b[32m2647\u001b[39m \u001b[38;5;28mself\u001b[39m.tk.call(\n\u001b[32m   2648\u001b[39m     (widgetName, \u001b[38;5;28mself\u001b[39m._w) + extra + \u001b[38;5;28mself\u001b[39m._options(cnf))\n\u001b[32m   2649\u001b[39m \u001b[38;5;28;01mfor\u001b[39;00m k, v \u001b[38;5;129;01min\u001b[39;00m classes:\n\u001b[32m   2650\u001b[39m     k.configure(\u001b[38;5;28mself\u001b[39m, v)\n",
      "\u001b[31mTclError\u001b[39m: image \"pyimage39\" doesn't exist"
     ]
    }
   ],
   "source": [
    "counter = 1\n",
    "root = Tk()\n",
    "root.title('Wallpaper Viewer')\n",
    "\n",
    "root.geometry('250x400')\n",
    "root.configure(background='black')\n",
    "\n",
    "files = os.listdir('wallpapers')\n",
    "\n",
    "root.img_array = []\n",
    "for file in files:\n",
    "    img = Image.open(os.path.join('wallpapers',file))\n",
    "    resized_img = img.resize((200,300))\n",
    "    root.img_array.append(ImageTk.PhotoImage(resized_img))\n",
    "\n",
    "img_label = Label(root,image=root.img_array[0])\n",
    "img_label.pack(pady=(15,10))\n",
    "\n",
    "next_btn = Button(root,text='Next',bg='white',fg='black',width=28,height=2,command=rotate_image)\n",
    "next_btn.pack()\n",
    "root.mainloop()"
   ]
  },
  {
   "cell_type": "code",
   "execution_count": null,
   "id": "fbce8a15",
   "metadata": {},
   "outputs": [],
   "source": []
  }
 ],
 "metadata": {
  "kernelspec": {
   "display_name": "projenv",
   "language": "python",
   "name": "python3"
  },
  "language_info": {
   "codemirror_mode": {
    "name": "ipython",
    "version": 3
   },
   "file_extension": ".py",
   "mimetype": "text/x-python",
   "name": "python",
   "nbconvert_exporter": "python",
   "pygments_lexer": "ipython3",
   "version": "3.11.13"
  }
 },
 "nbformat": 4,
 "nbformat_minor": 5
}
