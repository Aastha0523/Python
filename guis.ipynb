{
 "cells": [
  {
   "cell_type": "code",
   "execution_count": 2,
   "id": "459eeb9d",
   "metadata": {},
   "outputs": [
    {
     "name": "stdout",
     "output_type": "stream",
     "text": [
      "Requirement already satisfied: pillow in c:\\users\\aasth\\anaconda3\\envs\\projenv\\lib\\site-packages (11.3.0)\n"
     ]
    }
   ],
   "source": [
    "!pip install pillow"
   ]
  },
  {
   "cell_type": "code",
   "execution_count": 21,
   "id": "3ec98514",
   "metadata": {},
   "outputs": [],
   "source": [
    "from tkinter import *\n",
    "from PIL import ImageTk, Image\n",
    "from tkinter import messagebox"
   ]
  },
  {
   "cell_type": "code",
   "execution_count": 22,
   "id": "761a685f",
   "metadata": {},
   "outputs": [],
   "source": [
    "def handle_login():\n",
    "    email = email_input.get()\n",
    "    password = password_input.get()\n",
    "    if email == 'aastha@gmail.com' and password == '1234':\n",
    "        messagebox.showinfo('Logged in!')\n",
    "    else:\n",
    "        messagebox.showerror('Login Unsuccessful:(')\n",
    "    "
   ]
  },
  {
   "cell_type": "code",
   "execution_count": 24,
   "id": "d761734d",
   "metadata": {},
   "outputs": [],
   "source": [
    "root = Tk()\n",
    "root.title('Login Form') #change the name from tk to  Login Form\n",
    "root.iconbitmap('Google.jpeg')\n",
    "\n",
    "root.minsize(100,100) #minimum size of window\n",
    "root.geometry('500x500') #specific size window opens\n",
    "\n",
    "root.configure(background='#0096DC')#backfround color\n",
    "\n",
    "img = Image.open('download.png')\n",
    "resized_img = img.resize((100,100))\n",
    "img = ImageTk.PhotoImage(resized_img)\n",
    "img_label = Label(root,image=img)\n",
    "img_label.pack(pady=(10,10))\n",
    "text_label = Label(root,text='Google', fg = 'white', bg = '#0096DC')\n",
    "text_label.pack()\n",
    "text_label.config(font=('verdana', 24))\n",
    "\n",
    "email_label = Label(root, text='Enter Email', fg = 'white', bg = '#0096DC')\n",
    "email_label.pack(pady=(20,5))\n",
    "email_label.config(font=('verdana',12))\n",
    "\n",
    "email_input = Entry(root,width = 50)\n",
    "email_input.pack(ipady=4, pady=(1,15))\n",
    "\n",
    "password_label = Label(root, text='Enter password', fg = 'white', bg = '#0096DC')\n",
    "password_label.pack(pady=(20,5))\n",
    "password_label.config(font=('verdana',12))\n",
    "\n",
    "password_input = Entry(root,width = 50)\n",
    "password_input.pack(ipady=4, pady=(1,15))\n",
    "\n",
    "login_btn = Button(root, text='Login Here', bg='white', fg='black', width=20, height=2, command=handle_login)\n",
    "login_btn.pack(pady=(10,20))\n",
    "login_btn.config(font=('verdana',10))\n",
    "\n",
    "root.mainloop() #Keeps GUI consistently on Screen"
   ]
  },
  {
   "cell_type": "code",
   "execution_count": null,
   "id": "61c339de",
   "metadata": {},
   "outputs": [],
   "source": []
  }
 ],
 "metadata": {
  "kernelspec": {
   "display_name": "projenv",
   "language": "python",
   "name": "python3"
  },
  "language_info": {
   "codemirror_mode": {
    "name": "ipython",
    "version": 3
   },
   "file_extension": ".py",
   "mimetype": "text/x-python",
   "name": "python",
   "nbconvert_exporter": "python",
   "pygments_lexer": "ipython3",
   "version": "3.11.13"
  }
 },
 "nbformat": 4,
 "nbformat_minor": 5
}
