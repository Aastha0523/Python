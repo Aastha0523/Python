{
 "cells": [
  {
   "cell_type": "code",
   "execution_count": 4,
   "id": "474ec289",
   "metadata": {},
   "outputs": [
    {
     "name": "stdout",
     "output_type": "stream",
     "text": [
      "India Spain Portugal\n",
      "Hello 5 True\n",
      "Hello/World\n",
      "Hello-World\n"
     ]
    }
   ],
   "source": [
    "#Print\n",
    "print('India', 'Spain', 'Portugal')\n",
    "print('Hello', 5, True)\n",
    "print('Hello', 'World', sep = '/')\n",
    "print('Hello', end = '-')\n",
    "print('World')"
   ]
  },
  {
   "cell_type": "code",
   "execution_count": null,
   "id": "cc06237d",
   "metadata": {},
   "outputs": [],
   "source": [
    "#data types\n",
    "\n",
    "#basic - integer, complex, float, boolean, string\n",
    "#container - list, tuples, sets, dictionary\n",
    "#user - class"
   ]
  },
  {
   "cell_type": "code",
   "execution_count": 6,
   "id": "6ca3e273",
   "metadata": {},
   "outputs": [
    {
     "name": "stdout",
     "output_type": "stream",
     "text": [
      "4\n",
      "1e+308\n",
      "inf\n"
     ]
    }
   ],
   "source": [
    "#integer\n",
    "print(4)\n",
    "print(1e308)\n",
    "print(1e309)"
   ]
  },
  {
   "cell_type": "code",
   "execution_count": 7,
   "id": "8d7ae0be",
   "metadata": {},
   "outputs": [
    {
     "name": "stdout",
     "output_type": "stream",
     "text": [
      "4.5\n",
      "1.7e+308\n",
      "inf\n"
     ]
    }
   ],
   "source": [
    "#float\n",
    "print(4.5)\n",
    "print(1.7e308)\n",
    "print(1.7e309)"
   ]
  },
  {
   "cell_type": "code",
   "execution_count": 9,
   "id": "30c70ce4",
   "metadata": {},
   "outputs": [
    {
     "name": "stdout",
     "output_type": "stream",
     "text": [
      "True\n",
      "False\n"
     ]
    }
   ],
   "source": [
    "#boolean\n",
    "print(True)\n",
    "print(False)"
   ]
  },
  {
   "cell_type": "code",
   "execution_count": 10,
   "id": "d1e4645c",
   "metadata": {},
   "outputs": [
    {
     "name": "stdout",
     "output_type": "stream",
     "text": [
      "(4+5j)\n"
     ]
    }
   ],
   "source": [
    "#complex\n",
    "print(4+5j)"
   ]
  },
  {
   "cell_type": "code",
   "execution_count": 13,
   "id": "3e5332f9",
   "metadata": {},
   "outputs": [
    {
     "name": "stdout",
     "output_type": "stream",
     "text": [
      "Aastha\n",
      "Aastha\n",
      "Aastha\n"
     ]
    }
   ],
   "source": [
    "#string\n",
    "print('Aastha')\n",
    "print(\"Aastha\")\n",
    "print(\"\"\"Aastha\"\"\")"
   ]
  },
  {
   "cell_type": "code",
   "execution_count": 14,
   "id": "7aea9851",
   "metadata": {},
   "outputs": [
    {
     "name": "stdout",
     "output_type": "stream",
     "text": [
      "[1, 2, 3, 4, 5]\n"
     ]
    }
   ],
   "source": [
    "#list\n",
    "print([1,2,3,4,5])"
   ]
  },
  {
   "cell_type": "code",
   "execution_count": 15,
   "id": "a6ed3441",
   "metadata": {},
   "outputs": [
    {
     "name": "stdout",
     "output_type": "stream",
     "text": [
      "(1, 2, 3, 4, 5)\n"
     ]
    }
   ],
   "source": [
    "#tuple\n",
    "print((1,2,3,4,5))"
   ]
  },
  {
   "cell_type": "code",
   "execution_count": 17,
   "id": "5aeacd5c",
   "metadata": {},
   "outputs": [
    {
     "name": "stdout",
     "output_type": "stream",
     "text": [
      "{1, 2, 3, 4, 5}\n"
     ]
    }
   ],
   "source": [
    "#sets\n",
    "print({1,2,3,4,5})"
   ]
  },
  {
   "cell_type": "code",
   "execution_count": 18,
   "id": "bbcd1d8a",
   "metadata": {},
   "outputs": [
    {
     "name": "stdout",
     "output_type": "stream",
     "text": [
      "{'name': 'aastha', 'age': '26'}\n"
     ]
    }
   ],
   "source": [
    "#dictionary\n",
    "print({'name':'aastha', 'age': '26'})"
   ]
  },
  {
   "cell_type": "code",
   "execution_count": 19,
   "id": "7826d444",
   "metadata": {},
   "outputs": [],
   "source": [
    "#comments\n",
    "#multiple line comments is not possible in python use # in every line"
   ]
  },
  {
   "cell_type": "code",
   "execution_count": null,
   "id": "1b99dbc1",
   "metadata": {},
   "outputs": [
    {
     "name": "stdout",
     "output_type": "stream",
     "text": [
      "aastha\n"
     ]
    },
    {
     "data": {
      "text/plain": [
       "'aastha'"
      ]
     },
     "execution_count": 5,
     "metadata": {},
     "output_type": "execute_result"
    }
   ],
   "source": [
    "#variables\n",
    "name = 'aastha'\n",
    "print(name)\n",
    "name\n",
    "\n",
    "#no variable declaration\n",
    "#dynamic typing (no static typing) -> data type no need to be mentioned\n"
   ]
  },
  {
   "cell_type": "code",
   "execution_count": 6,
   "id": "30f68cdc",
   "metadata": {},
   "outputs": [
    {
     "name": "stdout",
     "output_type": "stream",
     "text": [
      "aastha\n",
      "5\n",
      "True\n"
     ]
    }
   ],
   "source": [
    "#dynamic binding\n",
    "name = 'aastha'\n",
    "print(name)\n",
    "name=5\n",
    "print(name)\n",
    "name=True\n",
    "print(name)"
   ]
  },
  {
   "cell_type": "code",
   "execution_count": 8,
   "id": "21c29843",
   "metadata": {},
   "outputs": [
    {
     "name": "stdout",
     "output_type": "stream",
     "text": [
      "5\n",
      "6\n",
      "5\n",
      "6\n",
      "6\n"
     ]
    }
   ],
   "source": [
    "#special syntax\n",
    "a=5; b=6;c=10\n",
    "print(a)\n",
    "print(b)\n",
    "\n",
    "a,b,c=5,6,7\n",
    "print(a)\n",
    "\n",
    "a=b=c=6\n",
    "print(a)\n",
    "print(c)"
   ]
  },
  {
   "cell_type": "code",
   "execution_count": 1,
   "id": "cd08ce05",
   "metadata": {},
   "outputs": [
    {
     "name": "stdout",
     "output_type": "stream",
     "text": [
      "['False', 'None', 'True', 'and', 'as', 'assert', 'async', 'await', 'break', 'class', 'continue', 'def', 'del', 'elif', 'else', 'except', 'finally', 'for', 'from', 'global', 'if', 'import', 'in', 'is', 'lambda', 'nonlocal', 'not', 'or', 'pass', 'raise', 'return', 'try', 'while', 'with', 'yield']\n"
     ]
    }
   ],
   "source": [
    "#python is case sensitive\n",
    "#keywords -> 33 in python\n",
    "import keyword\n",
    "print(keyword.kwlist)\n"
   ]
  },
  {
   "cell_type": "code",
   "execution_count": 2,
   "id": "4924735e",
   "metadata": {},
   "outputs": [],
   "source": [
    "#identifiers -> name used to identify variable, function, class, object, module\n",
    "name = 'Aastha'\n",
    "__ = 5\n",
    "name1='Aastha'"
   ]
  },
  {
   "cell_type": "code",
   "execution_count": null,
   "id": "edcbd0f0",
   "metadata": {},
   "outputs": [],
   "source": [
    "#taking user input\n",
    "input('What is your name')"
   ]
  },
  {
   "cell_type": "code",
   "execution_count": null,
   "id": "92ceadfd",
   "metadata": {},
   "outputs": [],
   "source": [
    "'Aastha'"
   ]
  },
  {
   "cell_type": "code",
   "execution_count": null,
   "id": "c393e5d9",
   "metadata": {},
   "outputs": [],
   "source": [
    "#Add two number\n",
    "\n",
    "first_num = input('enter the first number')\n",
    "second_num = input('enter the second number')"
   ]
  },
  {
   "cell_type": "code",
   "execution_count": null,
   "id": "918e9afa",
   "metadata": {},
   "outputs": [],
   "source": [
    "result = first_num+second_num\n",
    "print(result)"
   ]
  },
  {
   "cell_type": "code",
   "execution_count": null,
   "id": "4a85abf7",
   "metadata": {},
   "outputs": [],
   "source": [
    "#user input is always in string format"
   ]
  },
  {
   "cell_type": "code",
   "execution_count": 1,
   "id": "1537b020",
   "metadata": {},
   "outputs": [
    {
     "data": {
      "text/plain": [
       "list"
      ]
     },
     "execution_count": 1,
     "metadata": {},
     "output_type": "execute_result"
    }
   ],
   "source": [
    "#type\n",
    "type(4)\n",
    "type(True)\n",
    "type([1,2,3])"
   ]
  },
  {
   "cell_type": "code",
   "execution_count": 4,
   "id": "6cd08985",
   "metadata": {},
   "outputs": [
    {
     "data": {
      "text/plain": [
       "['h', 'e', 'l', 'l', 'o']"
      ]
     },
     "execution_count": 4,
     "metadata": {},
     "output_type": "execute_result"
    }
   ],
   "source": [
    "#type conversion -> implicit and explicit\n",
    "#implicit -> python does it\n",
    "4+5.5\n",
    "5+6+7j\n",
    "#explicit\n",
    "first_num = '5'; second_num = '9'\n",
    "int(first_num)+int(second_num)\n",
    "float(4)\n",
    "str(5)\n",
    "bool(1)\n",
    "complex(4)\n",
    "list('hello')\n",
    "\n",
    "#not possible \n",
    "#int('hello')\n"
   ]
  },
  {
   "cell_type": "code",
   "execution_count": 5,
   "id": "c6a35ea9",
   "metadata": {},
   "outputs": [
    {
     "name": "stdout",
     "output_type": "stream",
     "text": [
      "4.5\n"
     ]
    }
   ],
   "source": [
    "#type conversion isn't permanent\n",
    "a=4.5\n",
    "int(a)\n",
    "print(a)"
   ]
  },
  {
   "cell_type": "code",
   "execution_count": null,
   "id": "219f9004",
   "metadata": {},
   "outputs": [],
   "source": [
    "first_num = int(input('enter the first number'))\n",
    "second_num = int(input('enter the second number'))\n",
    "result = first_num+second_num\n",
    "print(result)"
   ]
  },
  {
   "cell_type": "code",
   "execution_count": 10,
   "id": "3ddd7901",
   "metadata": {},
   "outputs": [
    {
     "name": "stdout",
     "output_type": "stream",
     "text": [
      "10 100 200 300\n",
      "10.5 1500.0\n",
      "3.14j 3.14j 0.0\n",
      "Aastha\n",
      "Aastha\n",
      "A\n",
      "this is a multiline string\n",
      "😀😆🤣\n",
      "raw \\n string\n",
      "5 10\n",
      "None\n"
     ]
    }
   ],
   "source": [
    "#literals -> raw data given in variable\n",
    "#numeric, string, boolean, special\n",
    "\n",
    "#numeric literals\n",
    "a=0b1010 #binary literal\n",
    "b=100 #decimal literal\n",
    "c=0o310 #octal literal\n",
    "d=0x12c #hexadecimal literal\n",
    "f = 10.5 #float literal\n",
    "f1 = 1.5e3\n",
    "x = 0+3.14j #complex literal\n",
    "\n",
    "print(a,b,c,d)\n",
    "print(f,f1)\n",
    "print(x,x,x.real)\n",
    "\n",
    "#string literals\n",
    "str = 'Aastha'\n",
    "str1 = \"Aastha\"\n",
    "char = 'A'\n",
    "multiline_str= \"\"\"this is a multiline string\"\"\"\n",
    "unicode = u\"\\U0001F600\\U0001F606\\U0001F923\"\n",
    "raw_str= r\"raw \\n string\"\n",
    "\n",
    "print(str)\n",
    "print(str1)\n",
    "print(char)\n",
    "print(multiline_str)\n",
    "print(unicode)\n",
    "print(raw_str)\n",
    "\n",
    "#boolean literals\n",
    "a=True+4\n",
    "b = False+10\n",
    "print(a,b)\n",
    "\n",
    "#special literal\n",
    "a=None # used for variable declaration\n",
    "print(a)"
   ]
  },
  {
   "cell_type": "code",
   "execution_count": 3,
   "id": "f6784811",
   "metadata": {},
   "outputs": [
    {
     "name": "stdout",
     "output_type": "stream",
     "text": [
      "11 -1 30 0.8333333333333334 5 15625 2\n",
      "False True False True True False\n",
      "True False False\n",
      "2 3 0 24 -3\n",
      "0\n",
      "True\n",
      "False\n",
      "True\n",
      "False\n"
     ]
    }
   ],
   "source": [
    "#operators\n",
    "#arithmetic, comparison, logical, bitwise, assignment, identity, membership\n",
    "\n",
    "#Arithmetic\n",
    "a=5; b=6\n",
    "print(a+b, a-b,a*b,a/b,a%b,a**b,a//2)\n",
    "\n",
    "#comparison\n",
    "print(a>b,a<b,a==b,a<=b,a!=b,a>=b)\n",
    "\n",
    "#logical\n",
    "a=True\n",
    "b=False\n",
    "print(a or b, a and b, not a)\n",
    "\n",
    "#bitwise\n",
    "a = 2\n",
    "b = 3\n",
    "print(a&b, a|b, a>>2, b<<3, ~a)\n",
    "\n",
    "#assignment\n",
    "a=3\n",
    "a+=3 \n",
    "a-+2\n",
    "a*=6\n",
    "a&=2\n",
    "print(a)\n",
    "#++a, a++ invalid in python\n",
    "\n",
    "#identity\n",
    "a=3\n",
    "b=3\n",
    "print(a is b)\n",
    "a =[1,2,3]\n",
    "b=[1,2,3]\n",
    "print(a is b)\n",
    "\n",
    "#membership\n",
    "a = 'delhi'\n",
    "print('d' in a)\n",
    "b = (1,2,3)\n",
    "print(5 in b)"
   ]
  },
  {
   "cell_type": "code",
   "execution_count": null,
   "id": "e9432fbb",
   "metadata": {},
   "outputs": [],
   "source": [
    "#if-else\n",
    "#correct email - aa@gmail.com and password - 1234\n",
    "email = input('type your email')\n",
    "if '@' in email:\n",
    "    password = input('type your password')\n",
    "    if email=='aa@gmail.com' and password == '1234':\n",
    "        print('welcome')\n",
    "    elif email=='aa@gmail.com' and password != '1234':\n",
    "        print('password incorrect')\n",
    "        password = input('password')\n",
    "        if password=='1234':\n",
    "            print('welcome')\n",
    "        else:\n",
    "            print('incorrect')\n",
    "else:\n",
    "    print('incorrect')\n"
   ]
  },
  {
   "cell_type": "code",
   "execution_count": 11,
   "id": "13a6ec25",
   "metadata": {},
   "outputs": [],
   "source": [
    "#indentation\n",
    "#; {} are not used in python for a block of code"
   ]
  },
  {
   "cell_type": "code",
   "execution_count": null,
   "id": "12b4add4",
   "metadata": {},
   "outputs": [],
   "source": [
    "#while loop\n",
    "number = int(input('enter a number'))\n",
    "i = 1\n",
    "while i<11:\n",
    "    print(number*i)\n",
    "    i+=1"
   ]
  },
  {
   "cell_type": "code",
   "execution_count": null,
   "id": "139cbf65",
   "metadata": {},
   "outputs": [],
   "source": [
    "#Guessing Game\n",
    "import random\n",
    "jackpot = random.randint(1,100)\n",
    "\n",
    "guess = int(input(\"what's your guess?\"))\n",
    "\n",
    "while guess != jackpot:\n",
    "    if guess<jackpot:\n",
    "        print('guess higher')\n",
    "    else:\n",
    "        print('guess lower')\n",
    "    guess = int(input(\"what's your guess?\"))\n",
    "    counter+=1\n",
    "print('JACKPOT!')\n",
    "print('You took', counter, 'attempts')"
   ]
  },
  {
   "cell_type": "code",
   "execution_count": 1,
   "id": "a26cb872",
   "metadata": {},
   "outputs": [
    {
     "data": {
      "text/plain": [
       "('kolkata', 'delhi', 'mumbai')"
      ]
     },
     "execution_count": 1,
     "metadata": {},
     "output_type": "execute_result"
    }
   ],
   "source": [
    "#range function\n",
    "range(1,11)\n",
    "list(range(15))\n",
    "list(range(1,11,3))\n",
    "#sequence\n",
    "\"kolkata\"\n",
    "['kolkata','delhi','mumbai']\n",
    "('kolkata','delhi','mumbai')\n"
   ]
  },
  {
   "cell_type": "code",
   "execution_count": 2,
   "id": "583ea1d2",
   "metadata": {},
   "outputs": [
    {
     "name": "stdout",
     "output_type": "stream",
     "text": [
      "10\n",
      "9\n",
      "8\n",
      "7\n",
      "6\n",
      "5\n",
      "4\n",
      "3\n",
      "2\n",
      "1\n",
      "k\n",
      "o\n",
      "l\n",
      "k\n",
      "a\n",
      "t\n",
      "a\n",
      "1\n",
      "2\n",
      "3\n",
      "4\n",
      "1\n",
      "2\n",
      "3\n",
      "4\n"
     ]
    }
   ],
   "source": [
    "#for loop\n",
    "for i in range(10,0,-1):\n",
    "    print(i)\n",
    "for i in 'kolkata':\n",
    "    print(i)\n",
    "for i in [1,2,3,4]:\n",
    "    print(i)\n",
    "for i in {1,2,3,4}:\n",
    "    print(i)"
   ]
  },
  {
   "cell_type": "code",
   "execution_count": null,
   "id": "1a665adc",
   "metadata": {},
   "outputs": [],
   "source": [
    "#nested loop\n",
    "rows = int(input('enter the number of rows'))\n",
    "for i in range(1, rows+1):\n",
    "    for i in range(0,i):\n",
    "        print('*', end=' ')\n",
    "    print(\"\")"
   ]
  },
  {
   "cell_type": "code",
   "execution_count": 2,
   "id": "7dcf81a1",
   "metadata": {},
   "outputs": [
    {
     "name": "stdout",
     "output_type": "stream",
     "text": [
      "1\n",
      "2\n",
      "3\n",
      "4\n"
     ]
    }
   ],
   "source": [
    "#break\n",
    "for i in range(1,11):\n",
    "    if i == 5:\n",
    "        break\n",
    "    print(i)"
   ]
  },
  {
   "cell_type": "code",
   "execution_count": 3,
   "id": "4512c5bf",
   "metadata": {},
   "outputs": [
    {
     "name": "stdout",
     "output_type": "stream",
     "text": [
      "1\n",
      "hello\n",
      "2\n",
      "hello\n",
      "3\n",
      "hello\n",
      "4\n",
      "hello\n",
      "6\n",
      "hello\n",
      "7\n",
      "hello\n",
      "8\n",
      "hello\n",
      "9\n",
      "hello\n",
      "10\n",
      "hello\n"
     ]
    }
   ],
   "source": [
    "#continue\n",
    "for i in range(1,11):\n",
    "    if i == 5:\n",
    "        continue\n",
    "    print(i)\n",
    "    print('hello')"
   ]
  },
  {
   "cell_type": "code",
   "execution_count": 4,
   "id": "873f1976",
   "metadata": {},
   "outputs": [],
   "source": [
    "#pass\n",
    "for i in range(1,11):\n",
    "    pass"
   ]
  },
  {
   "cell_type": "code",
   "execution_count": null,
   "id": "52e3006e",
   "metadata": {},
   "outputs": [
    {
     "name": "stdout",
     "output_type": "stream",
     "text": [
      "hello world\n"
     ]
    }
   ],
   "source": [
    " #built in function\n",
    "#print\n",
    "print('hello world')\n",
    "#input\n",
    "input('enter your name')\n",
    "#type\n",
    "a = 3.5\n",
    "type(a)\n",
    "#int\n",
    "int(5.6)\n",
    "#float\n",
    "#str\n",
    "#list\n",
    "#tuple\n",
    "#abs\n",
    "abs(-4)\n",
    "#pow\n",
    "pow(2,3)\n",
    "#min/max\n",
    "min([1,2,3,4,5])\n",
    "max('kolkata')\n",
    "#round\n",
    "c=22/7\n",
    "round(c,3)\n",
    "#divmod\n",
    "divmod(5,2)\n",
    "#bin/oct/hex\n",
    "bin(4)\n",
    "oct(4)\n",
    "hex(4)\n",
    "#id\n",
    "a = 3\n",
    "id(a)\n",
    "#ord\n",
    "ord('c')\n",
    "#len\n",
    "len('aastha')\n",
    "#sum\n",
    "sum([1,2,3,4,5])\n",
    "#help\n",
    "help('print')\n"
   ]
  },
  {
   "cell_type": "code",
   "execution_count": 6,
   "id": "8bba8719",
   "metadata": {},
   "outputs": [
    {
     "name": "stdout",
     "output_type": "stream",
     "text": [
      "\n",
      "Please wait a moment while I gather a list of all available modules...\n",
      "\n",
      "IPython             babel               markdown_it         start_pythonwin\n",
      "PIL                 backports           markupsafe          stat\n",
      "__future__          base64              marshal             statistics\n",
      "__hello__           bdb                 math                streamlit\n",
      "__phello__          binascii            mathparse           string\n",
      "_abc                bisect              matplotlib          stringprep\n",
      "_aix_support        bleach              matplotlib_inline   struct\n",
      "_android_support    blinker             mdurl               subprocess\n",
      "_apple_support      bs4                 mimetypes           symtable\n",
      "_argon2_cffi_bindings builtins            mistune             sys\n",
      "_ast                bz2                 mmap                sysconfig\n",
      "_asyncio            cProfile            mmapfile            tabnanny\n",
      "_bisect             cachetools          mmsystem            tarfile\n",
      "_blake2             calendar            modulefinder        tempfile\n",
      "_bz2                certifi             more_itertools      tenacity\n",
      "_cffi_backend       cffi                msvcrt              terminado\n",
      "_codecs             charset_normalizer  multiprocessing     test\n",
      "_codecs_cn          chatterbot          narwhals            textwrap\n",
      "_codecs_hk          chatterbot_corpus   nbclient            this\n",
      "_codecs_iso2022     click               nbconvert           threading\n",
      "_codecs_jp          cmath               nbformat            threadpoolctl\n",
      "_codecs_kr          cmd                 nest_asyncio        time\n",
      "_codecs_tw          code                netbios             timeit\n",
      "_collections        codecs              netrc               timer\n",
      "_collections_abc    codeop              notebook            tinycss2\n",
      "_colorize           collections         notebook_shim       tkinter\n",
      "_compat_pickle      colorama            nt                  token\n",
      "_compression        colorsys            ntpath              tokenize\n",
      "_contextvars        comm                ntsecuritycon       toml\n",
      "_csv                commctrl            nturl2path          tomli\n",
      "_ctypes             compileall          numbers             tomllib\n",
      "_ctypes_test        concurrent          numpy               tornado\n",
      "_datetime           configparser        odbc                tqdm\n",
      "_decimal            contextlib          opcode              trace\n",
      "_distutils_hack     contextvars         operator            traceback\n",
      "_elementtree        contourpy           optparse            tracemalloc\n",
      "_functools          copy                os                  traitlets\n",
      "_hashlib            copyreg             overrides           tty\n",
      "_heapq              csv                 packaging           turtle\n",
      "_imp                ctypes              pandas              turtledemo\n",
      "_interpchannels     curses              pandocfilters       typeguard\n",
      "_interpqueues       cycler              parso               types\n",
      "_interpreters       dataclasses         pathlib             typing\n",
      "_io                 datetime            pdb                 typing_extensions\n",
      "_ios_support        dateutil            perfmon             tzdata\n",
      "_json               dbm                 pickle              unicodedata\n",
      "_locale             dde                 pickletools         unittest\n",
      "_lsprof             debugpy             pip                 uri_template\n",
      "_lzma               decimal             pkg_resources       urllib\n",
      "_markupbase         decorator           pkgutil             urllib3\n",
      "_md5                defusedxml          platform            uuid\n",
      "_multibytecodec     difflib             platformdirs        venv\n",
      "_multiprocessing    dis                 plistlib            warnings\n",
      "_opcode             doctest             poplib              watchdog\n",
      "_opcode_metadata    email               posixpath           wave\n",
      "_operator           encodings           pprint              wcwidth\n",
      "_osx_support        ensurepip           profile             weakref\n",
      "_overlapped         enum                prometheus_client   webbrowser\n",
      "_pickle             errno               prompt_toolkit      webcolors\n",
      "_py_abc             executing           pstats              webencodings\n",
      "_pydatetime         fastjsonschema      psutil              websocket\n",
      "_pydecimal          faulthandler        pty                 wheel\n",
      "_pyio               filecmp             pure_eval           win2kras\n",
      "_pylong             fileinput           py_compile          win32api\n",
      "_pyrepl             fnmatch             pyarrow             win32clipboard\n",
      "_queue              fontTools           pyclbr              win32com\n",
      "_random             fqdn                pycparser           win32con\n",
      "_sha1               fractions           pydeck              win32console\n",
      "_sha2               ftplib              pydoc               win32cred\n",
      "_sha3               functools           pydoc_data          win32crypt\n",
      "_signal             gc                  pyexpat             win32cryptcon\n",
      "_sitebuiltins       genericpath         pygments            win32event\n",
      "_socket             getopt              pylab               win32evtlog\n",
      "_sqlite3            getpass             pyparsing           win32evtlogutil\n",
      "_sre                gettext             pythoncom           win32file\n",
      "_ssl                git                 pythonjsonlogger    win32gui\n",
      "_stat               gitdb               pytz                win32gui_struct\n",
      "_statistics         glob                pywin               win32help\n",
      "_string             graphlib            pywin32_bootstrap   win32inet\n",
      "_strptime           greenlet            pywin32_testutil    win32inetcon\n",
      "_struct             gzip                pywintypes          win32job\n",
      "_symtable           h11                 queue               win32lz\n",
      "_sysconfig          hashlib             quopri              win32net\n",
      "_testbuffer         heapq               random              win32netcon\n",
      "_testcapi           hmac                rasutil             win32pdh\n",
      "_testclinic         html                re                  win32pdhquery\n",
      "_testclinic_limited http                referencing         win32pdhutil\n",
      "_testconsole        httpcore            regcheck            win32pipe\n",
      "_testimportmultiple httpx               regutil             win32print\n",
      "_testinternalcapi   idlelib             reprlib             win32process\n",
      "_testlimitedcapi    idna                requests            win32profile\n",
      "_testmultiphase     imaplib             rfc3339_validator   win32ras\n",
      "_testsinglephase    importlib           rfc3986_validator   win32rcparser\n",
      "_thread             importlib_metadata  rich                win32security\n",
      "_threading_local    inflect             rlcompleter         win32service\n",
      "_tkinter            inspect             rpds                win32serviceutil\n",
      "_tokenize           io                  runpy               win32timezone\n",
      "_tracemalloc        ipaddress           sched               win32trace\n",
      "_typing             ipykernel           scipy               win32traceutil\n",
      "_uuid               ipykernel_launcher  seaborn             win32transaction\n",
      "_warnings           isapi               secrets             win32ts\n",
      "_weakref            isoduration         select              win32ui\n",
      "_weakrefset         itertools           selectors           win32uiole\n",
      "_win32sysloader     jedi                send2trash          win32verstamp\n",
      "_win32verstamp_pywin32ctypes jinja2              servicemanager      win32wnet\n",
      "_winapi             joblib              setuptools          winerror\n",
      "_winxptheme         json                shelve              winioctlcon\n",
      "_wmi                json5               shlex               winnt\n",
      "_yaml               jsonpointer         shutil              winperf\n",
      "_zoneinfo           jsonschema          signal              winpty\n",
      "abc                 jsonschema_specifications site                winreg\n",
      "adodbapi            jupyter             six                 winsound\n",
      "afxres              jupyter_client      sklearn             winxpgui\n",
      "altair              jupyter_core        smmap               winxptheme\n",
      "antigravity         jupyter_events      smtplib             wsgiref\n",
      "anyio               jupyter_lsp         sniffio             xml\n",
      "argon2              jupyter_server      socket              xmlrpc\n",
      "argparse            jupyter_server_terminals socketserver        xxsubtype\n",
      "array               jupyterlab          soupsieve           yaml\n",
      "arrow               jupyterlab_pygments sqlalchemy          zipapp\n",
      "ast                 jupyterlab_server   sqlite3             zipfile\n",
      "asttokens           keyword             sre_compile         zipimport\n",
      "async_lru           kiwisolver          sre_constants       zipp\n",
      "asyncio             linecache           sre_parse           zlib\n",
      "atexit              locale              ssl                 zmq\n",
      "attr                logging             sspi                zoneinfo\n",
      "attrs               lzma                sspicon             \n",
      "autocommand         mailbox             stack_data          \n",
      "\n",
      "Enter any module name to get more help.  Or, type \"modules spam\" to search\n",
      "for modules whose name or summary contain the string \"spam\".\n",
      "\n",
      "hello\n",
      "world\n"
     ]
    },
    {
     "data": {
      "text/plain": [
       "['Basics.ipynb']"
      ]
     },
     "execution_count": 6,
     "metadata": {},
     "output_type": "execute_result"
    }
   ],
   "source": [
    "#modules\n",
    "#same as a code library\n",
    "#a file containing a set of functions you want to include in your application\n",
    "#eg- math, random, os, time\n",
    "help('modules')\n",
    "\n",
    "import math\n",
    "math.pi\n",
    "math.e\n",
    "math.factorial(5)\n",
    "math.ceil(5.6)\n",
    "math.floor(5.6)\n",
    "math.sqrt(100)\n",
    "\n",
    "import random\n",
    "random.randint(1,100)\n",
    "a = [1,2,3,4,5]\n",
    "random.shuffle(a)\n",
    "\n",
    "import time\n",
    "time.time()\n",
    "time.ctime()\n",
    "print('hello')\n",
    "time.sleep(1)\n",
    "print('world')\n",
    "\n",
    "import os\n",
    "os.getcwd()\n",
    "os.listdir()\n"
   ]
  },
  {
   "cell_type": "code",
   "execution_count": 7,
   "id": "96dea61b",
   "metadata": {},
   "outputs": [],
   "source": [
    "#strings\n",
    "#a sequence of unicode characters\n",
    "#creating strings\n",
    "#accessing strings\n",
    "#adding chars to strings\n",
    "#editing strings\n",
    "#deleting strings\n",
    "#operations on strings\n",
    "#string functions"
   ]
  },
  {
   "cell_type": "code",
   "execution_count": 15,
   "id": "2a68c847",
   "metadata": {},
   "outputs": [
    {
     "name": "stdout",
     "output_type": "stream",
     "text": [
      "Hello\n",
      "it's raing today\n"
     ]
    },
    {
     "data": {
      "text/plain": [
       "'hello, how are you doing? i am good. thank you '"
      ]
     },
     "execution_count": 15,
     "metadata": {},
     "output_type": "execute_result"
    }
   ],
   "source": [
    "#creating strings\n",
    "c = 'Hello'\n",
    "print(c)\n",
    "print(\"it's raing today\")\n",
    "\"\"\"hello, how are you doing? i am good. thank you \"\"\""
   ]
  },
  {
   "cell_type": "code",
   "execution_count": 22,
   "id": "6f386db0",
   "metadata": {},
   "outputs": [
    {
     "name": "stdout",
     "output_type": "stream",
     "text": [
      "hello\n",
      "h\n",
      "o\n",
      "o\n",
      "l\n",
      "hell\n",
      "llo world\n",
      "hell\n",
      "hello world\n",
      "lo\n",
      "hello wor\n",
      "hlw\n",
      "\n",
      "wr\n",
      "dlrow olleh\n"
     ]
    }
   ],
   "source": [
    "#accessing substrings from a string\n",
    "#concept of indexing\n",
    "c = \"hello\"\n",
    "print(c)\n",
    "print(c[0])\n",
    "print(c[4])\n",
    "\n",
    "#type of indexing\n",
    "#positive indexing\n",
    "#negative indexing\n",
    "print(c[-1])\n",
    "print(c[-2])\n",
    "\n",
    "#slicimg\n",
    "c = \"hello world\"\n",
    "print(c[0:4])\n",
    "print(c[2:])\n",
    "print(c[:4])\n",
    "print(c[:])\n",
    "print(c[2:6:2])\n",
    "print(c[:-2])\n",
    "print(c[0:8:3])\n",
    "print(c[0:6:-1])\n",
    "print(c[-5:-1:2])\n",
    "print(c[::-1])"
   ]
  },
  {
   "cell_type": "code",
   "execution_count": 5,
   "id": "419ca708",
   "metadata": {},
   "outputs": [
    {
     "name": "stdout",
     "output_type": "stream",
     "text": [
      "hello\n",
      "world\n",
      "hello\n"
     ]
    }
   ],
   "source": [
    "#editing and deleting in strings\n",
    "c = 'hello'\n",
    "print(c)\n",
    "# strings are an immutable data type\n",
    "#c[0] = 'x' #error -> item assignment(editing)\n",
    "c='world' #reassigning is possible\n",
    "print(c)\n",
    "#c[5] = 'x' #error -> item assignment(adding)\n",
    "\n",
    "del c\n",
    "#print(c)\n",
    "\n",
    "c = 'hello' \n",
    "print(c)\n",
    "#del c[0] #error\n",
    "#del c[3:2] #error"
   ]
  },
  {
   "cell_type": "code",
   "execution_count": 19,
   "id": "44b30649",
   "metadata": {},
   "outputs": [
    {
     "name": "stdout",
     "output_type": "stream",
     "text": [
      "hello-world\n",
      "**************************************************\n",
      "False\n",
      "False\n",
      "True\n",
      "True\n",
      "world\n",
      "\n",
      "hello\n",
      "hello\n",
      "world\n",
      "False\n",
      "True\n",
      "l\n",
      "o\n",
      "w\n",
      "True\n"
     ]
    }
   ],
   "source": [
    "#Operations on Strings\n",
    "#arithmetic, relational, logical, loops, membership\n",
    "print('hello'+'-'+'world')\n",
    "print('*'*50)\n",
    "print('hello' == 'world')\n",
    "print('mumbai' > 'pune')#lexiographically\n",
    "print('goa' < 'kolkata')\n",
    "print('kol' > 'Kol')\n",
    "print('hello' and 'world')\n",
    "#'' -> FALSE\n",
    "#'xyz' -> TRUE\n",
    "print(\"\" and 'hello')\n",
    "print(\"\" or 'hello')\n",
    "print(\"world\" and 'hello')\n",
    "print(\"world\" or 'hello')\n",
    "print(not 'hello')\n",
    "print(not '')\n",
    "c = 'hello world'\n",
    "for i in c[2:7:2]:\n",
    "    print(i)\n",
    "print('h' in c)\n"
   ]
  },
  {
   "cell_type": "code",
   "execution_count": null,
   "id": "9575333a",
   "metadata": {},
   "outputs": [],
   "source": []
  }
 ],
 "metadata": {
  "kernelspec": {
   "display_name": "Python 3",
   "language": "python",
   "name": "python3"
  },
  "language_info": {
   "codemirror_mode": {
    "name": "ipython",
    "version": 3
   },
   "file_extension": ".py",
   "mimetype": "text/x-python",
   "name": "python",
   "nbconvert_exporter": "python",
   "pygments_lexer": "ipython3",
   "version": "3.13.2"
  }
 },
 "nbformat": 4,
 "nbformat_minor": 5
}
