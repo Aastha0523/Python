{
 "cells": [
  {
   "cell_type": "code",
   "execution_count": 1,
   "id": "d2f82c0e",
   "metadata": {},
   "outputs": [
    {
     "data": {
      "text/plain": [
       "81"
      ]
     },
     "execution_count": 1,
     "metadata": {},
     "output_type": "execute_result"
    }
   ],
   "source": [
    "#L  ambda Functions AKA Anonomous functions\n",
    "#lambda input: expression\n",
    "x = lambda x:x**2\n",
    "x(9)"
   ]
  },
  {
   "cell_type": "code",
   "execution_count": 3,
   "id": "8ba73158",
   "metadata": {},
   "outputs": [
    {
     "data": {
      "text/plain": [
       "9"
      ]
     },
     "execution_count": 3,
     "metadata": {},
     "output_type": "execute_result"
    }
   ],
   "source": [
    "a = lambda x,y:x+y\n",
    "a(4,5)"
   ]
  },
  {
   "cell_type": "code",
   "execution_count": 5,
   "id": "765c1e60",
   "metadata": {},
   "outputs": [
    {
     "data": {
      "text/plain": [
       "function"
      ]
     },
     "execution_count": 5,
     "metadata": {},
     "output_type": "execute_result"
    }
   ],
   "source": [
    "#Difference in lambda and function\n",
    "#1. Lambda has no return value\n",
    "type(a)\n",
    "#2. Lambda returns the entire function\n",
    "#3. One line\n",
    "#4. not used for code reusability\n",
    "#5. no name\n",
    "#why lambda function? -> used along with higher order functions\n",
    "#Higher order functions -> a function that needs another functionin input to work or it's return is a function"
   ]
  },
  {
   "cell_type": "code",
   "execution_count": 8,
   "id": "7c5a0366",
   "metadata": {},
   "outputs": [
    {
     "name": "stdout",
     "output_type": "stream",
     "text": [
      "True\n",
      "False\n"
     ]
    }
   ],
   "source": [
    "b = lambda x: x[0] == \"a\"\n",
    "print(b('apple'))\n",
    "print(b('banana'))"
   ]
  },
  {
   "cell_type": "code",
   "execution_count": 9,
   "id": "776a6e8c",
   "metadata": {},
   "outputs": [
    {
     "name": "stdout",
     "output_type": "stream",
     "text": [
      "Odd\n",
      "Even\n"
     ]
    }
   ],
   "source": [
    "b = lambda x:\"Even\" if x%2==0 else \"Odd\"\n",
    "print(b(3))\n",
    "print(b(8))"
   ]
  },
  {
   "cell_type": "code",
   "execution_count": 10,
   "id": "44e02fcf",
   "metadata": {},
   "outputs": [
    {
     "name": "stdout",
     "output_type": "stream",
     "text": [
      "276\n",
      "129\n",
      "258\n"
     ]
    }
   ],
   "source": [
    "#Higher order functions\n",
    "def return_sum(func, L):\n",
    "    result = 0\n",
    "    for i in L:\n",
    "        if func(i):\n",
    "            result = result + i\n",
    "    return result\n",
    "\n",
    "L = [11,114,21,23,56,78,45,29,28]\n",
    "x = lambda x: x%2==0\n",
    "y = lambda x: x%2!=0\n",
    "z = lambda x: x%3==0\n",
    "\n",
    "print(return_sum(x,L))\n",
    "print(return_sum(y,L))\n",
    "print(return_sum(z,L))"
   ]
  },
  {
   "cell_type": "code",
   "execution_count": 14,
   "id": "0326c217",
   "metadata": {},
   "outputs": [
    {
     "name": "stdout",
     "output_type": "stream",
     "text": [
      "<map object at 0x00000207C2F1EB30>\n",
      "[2, 4, 6, 8, 10, 12, 14]\n"
     ]
    }
   ],
   "source": [
    "#Map\n",
    "L = [1,2,3,4,5,6,7]\n",
    "L\n",
    "print(map(lambda x:x*2,L))\n",
    "print(list(map(lambda x:x*2,L)))"
   ]
  },
  {
   "cell_type": "code",
   "execution_count": 15,
   "id": "99a5a0d2",
   "metadata": {},
   "outputs": [
    {
     "data": {
      "text/plain": [
       "[False, True, False, True, False, True, False]"
      ]
     },
     "execution_count": 15,
     "metadata": {},
     "output_type": "execute_result"
    }
   ],
   "source": [
    "list(map(lambda x: x%2 == 0, L))"
   ]
  },
  {
   "cell_type": "code",
   "execution_count": 18,
   "id": "22e64f6a",
   "metadata": {},
   "outputs": [
    {
     "name": "stdout",
     "output_type": "stream",
     "text": [
      "<map object at 0x00000207C30FAEC0>\n",
      "['Jacob Martin', 'angela stevens', 'ricky smart']\n"
     ]
    }
   ],
   "source": [
    "students = [\n",
    "    {\n",
    "        \"name\" : \"Jacob Martin\",\n",
    "        \"mother name\" : \"Ros Martin\",\n",
    "        \"address\" : \"123 Hill Street\"   \n",
    "    },{\n",
    "        \"name\" : \"angela stevens\",\n",
    "        \"mother name\" : \"Roberta stevens\",\n",
    "        \"address\" : \"123 Hill Street\"\n",
    "    },{\n",
    "        \"name\" : \"ricky smart\",\n",
    "        \"mother name\" : \"silvia smart\",\n",
    "        \"address\" : \"123 Hill Street\"\n",
    "    }\n",
    "]\n",
    "\n",
    "print(map(lambda student: student['name'],students))\n",
    "print(list(map(lambda student: student['name'],students)))"
   ]
  },
  {
   "cell_type": "code",
   "execution_count": 19,
   "id": "c365a938",
   "metadata": {},
   "outputs": [
    {
     "name": "stdout",
     "output_type": "stream",
     "text": [
      "<filter object at 0x00000207C30F2EC0>\n",
      "[5, 6, 7]\n"
     ]
    }
   ],
   "source": [
    "#Filter\n",
    "print(filter(lambda x:x>4,L))\n",
    "print(list(filter(lambda x:x>4,L)))"
   ]
  },
  {
   "cell_type": "code",
   "execution_count": 21,
   "id": "79e4e7a0",
   "metadata": {},
   "outputs": [
    {
     "name": "stdout",
     "output_type": "stream",
     "text": [
      "['Apple', 'Orange']\n"
     ]
    }
   ],
   "source": [
    "fruits = ['Apple', 'Orange', 'Mango', 'Guava']\n",
    "print(list(filter(lambda fruit: 'e' in fruit, fruits)))"
   ]
  },
  {
   "cell_type": "code",
   "execution_count": 25,
   "id": "b6835040",
   "metadata": {},
   "outputs": [
    {
     "name": "stdout",
     "output_type": "stream",
     "text": [
      "33\n",
      "13\n"
     ]
    }
   ],
   "source": [
    "#reduce\n",
    "L = [5,7,8,13]\n",
    "import functools\n",
    "print(functools.reduce(lambda x,y: x+y,L))\n",
    "print(functools.reduce(lambda x,y: x if x>y else y,L))"
   ]
  },
  {
   "cell_type": "code",
   "execution_count": 31,
   "id": "99dd6653",
   "metadata": {},
   "outputs": [
    {
     "name": "stdout",
     "output_type": "stream",
     "text": [
      "[2, 4, 6, 8, 10, 12, 14]\n",
      "[0, 1, 4, 9, 16, 25, 36, 49, 64, 81]\n",
      "[1, 9, 25, 49, 81]\n",
      "['Orange']\n"
     ]
    }
   ],
   "source": [
    "#List Comprehension\n",
    "L = [1,2,3,4,5,6,7]\n",
    "L1 = [item*2 for item in L]\n",
    "print(L1)\n",
    "L2 = [i**2 for i in range(10)]\n",
    "print(L2)\n",
    "L3 = [i**2 for i in range(10) if i%2!=0]\n",
    "print(L3)\n",
    "L4 = [fruit for fruit in fruits if fruit[0] =='O']\n",
    "print(L4)"
   ]
  },
  {
   "cell_type": "code",
   "execution_count": null,
   "id": "3ff9264d",
   "metadata": {},
   "outputs": [
    {
     "name": "stdout",
     "output_type": "stream",
     "text": [
      "dict_items([('Name', 'Nitish'), ('Gender', 'Male'), ('Age', 30)])\n",
      "{'Name': 'Nitish', 'Gender': 'Male'}\n",
      "{1: 1, 2: 4, 3: 9, 4: 16, 5: 25, 6: 36, 7: 49}\n",
      "{2: 4, 4: 16, 6: 36}\n"
     ]
    }
   ],
   "source": [
    "#Dictionary Comprehension\n",
    "D = {'Name':'Nitish', 'Gender': 'Male', 'Age': 30}\n",
    "print(D.items())\n",
    "D1 = {key:value for key, value in D.items() if len(key) > 3}\n",
    "print(D1)\n",
    "D2 = {item:item**2 for item in L}\n",
    "print(D2)\n",
    "D3 = {item:item**2 for item in L if item%2==0}\n",
    "print(D3)"
   ]
  },
  {
   "cell_type": "code",
   "execution_count": null,
   "id": "791d338c",
   "metadata": {},
   "outputs": [
    {
     "name": "stdout",
     "output_type": "stream",
     "text": [
      "{'Name': 'Nitish', 'Gender': 'Male'}\n"
     ]
    }
   ],
   "source": []
  },
  {
   "cell_type": "code",
   "execution_count": null,
   "id": "b95bc742",
   "metadata": {},
   "outputs": [],
   "source": []
  }
 ],
 "metadata": {
  "kernelspec": {
   "display_name": "projenv",
   "language": "python",
   "name": "python3"
  },
  "language_info": {
   "codemirror_mode": {
    "name": "ipython",
    "version": 3
   },
   "file_extension": ".py",
   "mimetype": "text/x-python",
   "name": "python",
   "nbconvert_exporter": "python",
   "pygments_lexer": "ipython3",
   "version": "3.11.13"
  }
 },
 "nbformat": 4,
 "nbformat_minor": 5
}
