{
 "cells": [
  {
   "cell_type": "markdown",
   "id": "77ede197",
   "metadata": {},
   "source": [
    "Build a whatsapp chatbot:\n",
    "\n",
    "if a string is sent in a message-> it reverses the string\n",
    "\n",
    "if a number is sent in a message -> it gives prime factor of the number"
   ]
  },
  {
   "cell_type": "code",
   "execution_count": 1,
   "id": "93079f62",
   "metadata": {},
   "outputs": [],
   "source": [
    "from flask import Flask, request, Response\n",
    "from twilio.twiml.messaging_response import MessagingResponse"
   ]
  },
  {
   "cell_type": "code",
   "execution_count": 2,
   "id": "cb49b7be",
   "metadata": {},
   "outputs": [],
   "source": [
    "app = Flask(__name__)"
   ]
  },
  {
   "cell_type": "code",
   "execution_count": 3,
   "id": "a28a687f",
   "metadata": {},
   "outputs": [],
   "source": [
    "@app.route(\"/whatsapp\", methods=[\"POST\"])\n",
    "def whatsapp():\n",
    "    text = request.values.get(\"Body\",\"\").strip()\n",
    "    reply_text = handle_message(text)\n",
    "    resp = MessagingResponse()\n",
    "    resp.message(reply_text)\n",
    "    return Response(str(resp), mimetype='application/xml')"
   ]
  },
  {
   "cell_type": "code",
   "execution_count": 4,
   "id": "c80ffecc",
   "metadata": {},
   "outputs": [],
   "source": [
    "def handle_message(msg: str)->str:\n",
    "    print(\"Received:\", msg)\n",
    "    if is_integer_string(msg):\n",
    "        n = int(msg)\n",
    "        print(\"Integer detected:\", n)\n",
    "        factors = prime_factorization(n)\n",
    "        print(\"Factors:\", factors)\n",
    "        return format_factors_reply(n,factors)\n",
    "    else:\n",
    "        print(\"String detected, reversing\")\n",
    "        return msg[::-1]"
   ]
  },
  {
   "cell_type": "code",
   "execution_count": 5,
   "id": "06809d2c",
   "metadata": {},
   "outputs": [],
   "source": [
    "def is_integer_string(msg:str)->bool:\n",
    "    msg=msg.strip()\n",
    "    if msg.startswith('-'):\n",
    "        return msg[1:].isdigit()\n",
    "    return msg.isdigit()"
   ]
  },
  {
   "cell_type": "code",
   "execution_count": 6,
   "id": "c524f483",
   "metadata": {},
   "outputs": [],
   "source": [
    "def prime_factorization(n: int)-> list[int]:\n",
    "    factors=[]\n",
    "\n",
    "    while n%2==0:\n",
    "        factors.append(2)\n",
    "        n//=2\n",
    "\n",
    "    i = 3\n",
    "    while i*i <= n:\n",
    "        while n%1==0:\n",
    "            factors.append(i)\n",
    "            n//=i\n",
    "        i+=2\n",
    "\n",
    "    if n>2:\n",
    "        factors.appends(n)\n",
    "    return factors"
   ]
  },
  {
   "cell_type": "code",
   "execution_count": 7,
   "id": "800ed533",
   "metadata": {},
   "outputs": [],
   "source": [
    "def format_factors_reply(n:int,factors:list[int])->str:\n",
    "    if len(factors) == 1:\n",
    "        return f\"{n} is a prime number.\"\n",
    "    else:\n",
    "        factor_str=\"x\".join(map(str,factors))\n",
    "        return f\"Prime factors of {n}: {factor_str}\""
   ]
  },
  {
   "cell_type": "code",
   "execution_count": 8,
   "id": "18430002",
   "metadata": {},
   "outputs": [
    {
     "name": "stdout",
     "output_type": "stream",
     "text": [
      "Received: 123\n",
      "Integer detected: 123\n"
     ]
    },
    {
     "ename": "KeyboardInterrupt",
     "evalue": "",
     "output_type": "error",
     "traceback": [
      "\u001b[31m---------------------------------------------------------------------------\u001b[39m",
      "\u001b[31mKeyboardInterrupt\u001b[39m                         Traceback (most recent call last)",
      "\u001b[36mCell\u001b[39m\u001b[36m \u001b[39m\u001b[32mIn[8]\u001b[39m\u001b[32m, line 1\u001b[39m\n\u001b[32m----> \u001b[39m\u001b[32m1\u001b[39m handle_message(\u001b[33m'\u001b[39m\u001b[33m123\u001b[39m\u001b[33m'\u001b[39m)\n",
      "\u001b[36mCell\u001b[39m\u001b[36m \u001b[39m\u001b[32mIn[4]\u001b[39m\u001b[32m, line 6\u001b[39m, in \u001b[36mhandle_message\u001b[39m\u001b[34m(msg)\u001b[39m\n\u001b[32m      4\u001b[39m n = \u001b[38;5;28mint\u001b[39m(msg)\n\u001b[32m      5\u001b[39m \u001b[38;5;28mprint\u001b[39m(\u001b[33m\"\u001b[39m\u001b[33mInteger detected:\u001b[39m\u001b[33m\"\u001b[39m, n)\n\u001b[32m----> \u001b[39m\u001b[32m6\u001b[39m factors = prime_factorization(n)\n\u001b[32m      7\u001b[39m \u001b[38;5;28mprint\u001b[39m(\u001b[33m\"\u001b[39m\u001b[33mFactors:\u001b[39m\u001b[33m\"\u001b[39m, factors)\n\u001b[32m      8\u001b[39m \u001b[38;5;28;01mreturn\u001b[39;00m format_factors_reply(n,factors)\n",
      "\u001b[36mCell\u001b[39m\u001b[36m \u001b[39m\u001b[32mIn[6]\u001b[39m\u001b[32m, line 11\u001b[39m, in \u001b[36mprime_factorization\u001b[39m\u001b[34m(n)\u001b[39m\n\u001b[32m      9\u001b[39m \u001b[38;5;28;01mwhile\u001b[39;00m i*i <= n:\n\u001b[32m     10\u001b[39m     \u001b[38;5;28;01mwhile\u001b[39;00m n%\u001b[32m1\u001b[39m==\u001b[32m0\u001b[39m:\n\u001b[32m---> \u001b[39m\u001b[32m11\u001b[39m         factors.append(i)\n\u001b[32m     12\u001b[39m         n//=i\n\u001b[32m     13\u001b[39m     i+=\u001b[32m2\u001b[39m\n",
      "\u001b[31mKeyboardInterrupt\u001b[39m: "
     ]
    }
   ],
   "source": [
    "handle_message('123')"
   ]
  },
  {
   "cell_type": "code",
   "execution_count": null,
   "id": "c149b607",
   "metadata": {},
   "outputs": [],
   "source": []
  }
 ],
 "metadata": {
  "kernelspec": {
   "display_name": "projenv",
   "language": "python",
   "name": "python3"
  },
  "language_info": {
   "codemirror_mode": {
    "name": "ipython",
    "version": 3
   },
   "file_extension": ".py",
   "mimetype": "text/x-python",
   "name": "python",
   "nbconvert_exporter": "python",
   "pygments_lexer": "ipython3",
   "version": "3.11.13"
  }
 },
 "nbformat": 4,
 "nbformat_minor": 5
}
