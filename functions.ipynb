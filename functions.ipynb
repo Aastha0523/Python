{
 "cells": [
  {
   "cell_type": "code",
   "execution_count": 1,
   "id": "a6db471c",
   "metadata": {},
   "outputs": [
    {
     "data": {
      "text/plain": [
       "False"
      ]
     },
     "execution_count": 1,
     "metadata": {},
     "output_type": "execute_result"
    }
   ],
   "source": [
    "#abstraction\n",
    "#decomposition\n",
    "#components of function\n",
    "def is_even(i):\n",
    "    '''optional docstring which tells about the function'''\n",
    "    x=i%2==0\n",
    "    return x\n",
    "is_even(3)"
   ]
  },
  {
   "cell_type": "code",
   "execution_count": 2,
   "id": "f9f68869",
   "metadata": {},
   "outputs": [
    {
     "name": "stdout",
     "output_type": "stream",
     "text": [
      "Odd\n",
      "Even\n",
      "Odd\n",
      "Even\n",
      "Odd\n",
      "Even\n",
      "Odd\n",
      "Even\n",
      "Odd\n",
      "Even\n",
      "type(object) -> the object's type\n",
      "type(name, bases, dict, **kwds) -> a new type\n"
     ]
    },
    {
     "data": {
      "text/plain": [
       "'Prints the values to a stream, or to sys.stdout by default.\\n\\n  sep\\n    string inserted between values, default a space.\\n  end\\n    string appended after the last value, default a newline.\\n  file\\n    a file-like object (stream); defaults to the current sys.stdout.\\n  flush\\n    whether to forcibly flush the stream.'"
      ]
     },
     "execution_count": 2,
     "metadata": {},
     "output_type": "execute_result"
    }
   ],
   "source": [
    "def is_even(num):\n",
    "    \"\"\"\n",
    "    this function tells if a given number is odd or even\n",
    "    input - any valid integer\n",
    "    output - odd/even\n",
    "    created by- Aastha\n",
    "    last edited- 29/08/2025\n",
    "    \"\"\"\n",
    "    if num % 2 == 0:\n",
    "        return \"Even\"\n",
    "    else:\n",
    "        return \"Odd\"\n",
    "for i in range(1,11):\n",
    "    print(is_even(i))\n",
    "print(type.__doc__)\n",
    "print.__doc__"
   ]
  },
  {
   "cell_type": "code",
   "execution_count": 3,
   "id": "dd49a915",
   "metadata": {},
   "outputs": [
    {
     "data": {
      "text/plain": [
       "'\\nimport random \\nimport is_even_function as fd\\nfd.is_even(34)\\nfd.is_even(\"hello\")\\n'"
      ]
     },
     "execution_count": 3,
     "metadata": {},
     "output_type": "execute_result"
    }
   ],
   "source": [
    "'''\n",
    "import random \n",
    "import is_even_function as fd\n",
    "fd.is_even(34)\n",
    "fd.is_even(\"hello\")\n",
    "'''"
   ]
  },
  {
   "cell_type": "code",
   "execution_count": null,
   "id": "f0ab767f",
   "metadata": {},
   "outputs": [
    {
     "name": "stdout",
     "output_type": "stream",
     "text": [
      "8\n",
      "1\n",
      "9\n",
      "1\n",
      "2\n",
      "6\n"
     ]
    }
   ],
   "source": [
    "# Parameters Vs Arguments\n",
    "\n",
    "#1. Default Arguments\n",
    "#2. Positional Arguments\n",
    "#3. Keyword Arguments\n",
    "#4. Arbitrary Arguments\n",
    "\n",
    "def is_even(num): #parameter\n",
    "    if num % 2 == 0:\n",
    "        return \"Even\"\n",
    "    else:\n",
    "        return \"Odd\"\n",
    "is_even(12)#arguments\n",
    "\n",
    "\n",
    "def power(a,b):\n",
    "    return a**b\n",
    "print(power(2,3))\n",
    "#power(3) -> error -> default arguments\n",
    "#power()\n",
    "\n",
    "#default\n",
    "def power(a=1,b=1):\n",
    "    return a**b\n",
    "print(power())\n",
    "\n",
    "#positional << keyword\n",
    "print(power(b=2,a=3))\n",
    "\n",
    "#arbitrary\n",
    "#print function can be given any number of arguments\n",
    "def flexi(*number):\n",
    "    product = 1\n",
    "    for i in number:\n",
    "        product = product*i\n",
    "    print(product)\n",
    "flexi(1)\n",
    "flexi(1,2)\n",
    "flexi(1,2,3)"
   ]
  },
  {
   "cell_type": "code",
   "execution_count": null,
   "id": "588601c5",
   "metadata": {},
   "outputs": [
    {
     "name": "stdout",
     "output_type": "stream",
     "text": [
      "2\n",
      "5\n",
      "5\n",
      "6\n",
      "5\n",
      "5\n",
      "2\n",
      "in main program scope: z= None\n",
      "in main program scope: x= 3\n"
     ]
    }
   ],
   "source": [
    "#global variable and local variable\n",
    "def f(y):\n",
    "    x=1 #local\n",
    "    x+=1\n",
    "    print(x) \n",
    "x=5 #global\n",
    "f(x)\n",
    "print(x)\n",
    "\n",
    "def g(x):\n",
    "    print(x) \n",
    "    print(x+1) #local\n",
    "x=5 #global\n",
    "g(x)\n",
    "print(x)\n",
    "\n",
    "def h(y):\n",
    "    #x+=1 not allowed global value can't be changed\n",
    "    y+=1 #local variable referenced before assignment\n",
    "y=5\n",
    "h(y)\n",
    "print(y)\n",
    "\n",
    "def fun(x):\n",
    "    x = x+1\n",
    "    print('in f(x) : x =', x)\n",
    "    return x\n",
    "x = 3\n",
    "z = f(x)\n",
    "print('in main program scope: z=', z) #campusx got 4\n",
    "print('in main program scope: x=',x)"
   ]
  },
  {
   "cell_type": "code",
   "execution_count": 3,
   "id": "ec0e759a",
   "metadata": {},
   "outputs": [
    {
     "name": "stdout",
     "output_type": "stream",
     "text": [
      "inside f\n",
      "inside g\n",
      "in g(x): x =  4\n"
     ]
    }
   ],
   "source": [
    "#nested function\n",
    "def f():\n",
    "    print(\"inside f\")\n",
    "    def g():\n",
    "        print(\"inside g\")\n",
    "    g()\n",
    "f()\n",
    "#g() -> not defined\n",
    "#f(g())\n",
    "def g(x):\n",
    "    def h():\n",
    "        x = 'abc'\n",
    "    x =x + 1\n",
    "    print('in g(x): x = ',x)\n",
    "    h()\n",
    "    return x\n",
    "x = 3\n",
    "z = g(x)"
   ]
  },
  {
   "cell_type": "code",
   "execution_count": 7,
   "id": "ce546f76",
   "metadata": {},
   "outputs": [
    {
     "name": "stdout",
     "output_type": "stream",
     "text": [
      "4\n",
      "4\n",
      "16\n",
      "<class 'function'>\n",
      "[1, 2, 3, <function f at 0x000001B13C60EF20>]\n",
      "9\n",
      "[1, 2, 3, 25]\n",
      "inside func_c\n",
      "None\n",
      "7\n"
     ]
    }
   ],
   "source": [
    "# everything in python is an object, functions too.\n",
    "def f(num):\n",
    "    return num**2\n",
    "print(f(2))\n",
    "x=f\n",
    "print(x(2))\n",
    "\n",
    "del f\n",
    "print(x(4))\n",
    "print(type(x))\n",
    "\n",
    "L =[1,2,3,x]\n",
    "print(L)\n",
    "print(L[-1](3))\n",
    "L =[1,2,3,x(5)]\n",
    "print(L)\n",
    "\n",
    "\n",
    "def func_a():\n",
    "    print(\"inside func_a\")\n",
    "def func_c(z):\n",
    "    print(\"inside func_c\")\n",
    "print(func_c(func_a))\n",
    "\n",
    "\n",
    "def f():\n",
    "    def x(a,b):\n",
    "        return a+b\n",
    "    return x\n",
    "val = f()(3,4)\n",
    "print(val)"
   ]
  },
  {
   "cell_type": "code",
   "execution_count": null,
   "id": "e95efbb9",
   "metadata": {},
   "outputs": [],
   "source": [
    "# code modularity\n",
    "# code reusability\n",
    "# code readability"
   ]
  }
 ],
 "metadata": {
  "kernelspec": {
   "display_name": "projenv",
   "language": "python",
   "name": "python3"
  },
  "language_info": {
   "codemirror_mode": {
    "name": "ipython",
    "version": 3
   },
   "file_extension": ".py",
   "mimetype": "text/x-python",
   "name": "python",
   "nbconvert_exporter": "python",
   "pygments_lexer": "ipython3",
   "version": "3.11.13"
  }
 },
 "nbformat": 4,
 "nbformat_minor": 5
}
