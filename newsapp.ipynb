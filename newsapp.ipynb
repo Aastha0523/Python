{
 "cells": [
  {
   "cell_type": "code",
   "execution_count": 38,
   "id": "5f788a59",
   "metadata": {},
   "outputs": [],
   "source": [
    "import requests\n",
    "from tkinter import *\n",
    "from urllib.request import urlopen\n",
    "from PIL import Image, ImageTk\n",
    "import io\n",
    "import webbrowser"
   ]
  },
  {
   "cell_type": "code",
   "execution_count": 50,
   "id": "e6e8fd5b",
   "metadata": {},
   "outputs": [],
   "source": [
    "class NewsApp:\n",
    "    def __init__(self):\n",
    "\n",
    "        #fetch data\n",
    "        self.data = requests.get('https://newsapi.org/v2/top-headlines?country=us&apiKey=4255b8a4fbdd45dba6229d31ff8ebdf7').json()\n",
    "\n",
    "        self.images = {}\n",
    "\n",
    "        #initial GUI load\n",
    "        self.load_gui()\n",
    "        \n",
    "        #load the first news item\n",
    "        self.load_news_item(1)\n",
    "\n",
    "        self.root.mainloop()\n",
    "\n",
    "    def load_gui(self):\n",
    "        self.root = Tk()\n",
    "        self.root.geometry('350x600')\n",
    "        self.root.resizable(0,0)\n",
    "        self.root.configure(background='black')\n",
    "        self.root.title('News App')\n",
    "\n",
    "    def clear(self):\n",
    "        for i in self.root.pack_slaves(): \n",
    "            i.destroy()\n",
    "\n",
    "    def open_link(self,url):\n",
    "        webbrowser.open(url)\n",
    "\n",
    "    def load_news_item(self,index):\n",
    "        #clear the screen for the new news item\n",
    "        self.clear()\n",
    "\n",
    "        #image\n",
    "        try:\n",
    "            img_url = self.data['articles'][index]['urlToImage']\n",
    "            raw_data = urlopen(img_url).read()\n",
    "            im = Image.open(io.BytesIO(raw_data)).resize((350,250))\n",
    "            photo = ImageTk.PhotoImage(im)\n",
    "        except:\n",
    "            im = Image.open('download.png').resize((350, 250))\n",
    "            photo = ImageTk.PhotoImage(im)\n",
    "\n",
    "        self.images[index] = photo\n",
    "\n",
    "        label = Label(self.root, image=photo)\n",
    "        label.pack()\n",
    "\n",
    "        #next news items\n",
    "        heading = Label(self.root, text= self.data['articles'][index]['title'], bg='black', fg = 'white',wraplength=350,justify='center')\n",
    "        heading.pack(pady=(10,20))\n",
    "        heading.config(font=('verdana',15))\n",
    "\n",
    "        details = Label(self.root, text= self.data['articles'][index]['description'], bg='black', fg = 'white',wraplength=350,justify='center')\n",
    "        details.pack(pady=(2,20))\n",
    "        details.config(font=('verdana',12))\n",
    "\n",
    "        frame = Frame(self.root, bg='black')\n",
    "        frame.pack(expand=True, fill=BOTH)\n",
    "\n",
    "        if index!=0:\n",
    "            prev = Button(frame, text='Prev', width=16, height =3, command=lambda :self.load_news_item(index-1))\n",
    "            prev.pack(side=LEFT)\n",
    "\n",
    "        read = Button(frame, text='Read More', width=16, height =3, command=lambda :self.open_link(self.data['articles'][index]['url']))\n",
    "        read.pack(side=LEFT)\n",
    "\n",
    "        if index != len(self.data['articles'])-1:\n",
    "            next = Button(frame, text='Next', width=16, height =3, command=lambda :self.load_news_item(index+1))\n",
    "            next.pack(side=LEFT)"
   ]
  },
  {
   "cell_type": "code",
   "execution_count": 51,
   "id": "084dab8f",
   "metadata": {},
   "outputs": [
    {
     "ename": "TclError",
     "evalue": "image \"pyimage9\" doesn't exist",
     "output_type": "error",
     "traceback": [
      "\u001b[31m---------------------------------------------------------------------------\u001b[39m",
      "\u001b[31mTclError\u001b[39m                                  Traceback (most recent call last)",
      "\u001b[36mCell\u001b[39m\u001b[36m \u001b[39m\u001b[32mIn[51]\u001b[39m\u001b[32m, line 1\u001b[39m\n\u001b[32m----> \u001b[39m\u001b[32m1\u001b[39m obj = NewsApp()\n",
      "\u001b[36mCell\u001b[39m\u001b[36m \u001b[39m\u001b[32mIn[50]\u001b[39m\u001b[32m, line 13\u001b[39m, in \u001b[36mNewsApp.__init__\u001b[39m\u001b[34m(self)\u001b[39m\n\u001b[32m     10\u001b[39m \u001b[38;5;28mself\u001b[39m.load_gui()\n\u001b[32m     12\u001b[39m \u001b[38;5;66;03m#load the first news item\u001b[39;00m\n\u001b[32m---> \u001b[39m\u001b[32m13\u001b[39m \u001b[38;5;28mself\u001b[39m.load_news_item(\u001b[32m1\u001b[39m)\n\u001b[32m     15\u001b[39m \u001b[38;5;28mself\u001b[39m.root.mainloop()\n",
      "\u001b[36mCell\u001b[39m\u001b[36m \u001b[39m\u001b[32mIn[50]\u001b[39m\u001b[32m, line 47\u001b[39m, in \u001b[36mNewsApp.load_news_item\u001b[39m\u001b[34m(self, index)\u001b[39m\n\u001b[32m     43\u001b[39m     photo = ImageTk.PhotoImage(im)\n\u001b[32m     45\u001b[39m \u001b[38;5;28mself\u001b[39m.images[index] = photo\n\u001b[32m---> \u001b[39m\u001b[32m47\u001b[39m label = Label(\u001b[38;5;28mself\u001b[39m.root, image=photo)\n\u001b[32m     48\u001b[39m label.pack()\n\u001b[32m     50\u001b[39m \u001b[38;5;66;03m#next news items\u001b[39;00m\n",
      "\u001b[36mFile \u001b[39m\u001b[32mc:\\Users\\aasth\\anaconda3\\envs\\projenv\\Lib\\tkinter\\__init__.py:3236\u001b[39m, in \u001b[36mLabel.__init__\u001b[39m\u001b[34m(self, master, cnf, **kw)\u001b[39m\n\u001b[32m   3218\u001b[39m \u001b[38;5;28;01mdef\u001b[39;00m\u001b[38;5;250m \u001b[39m\u001b[34m__init__\u001b[39m(\u001b[38;5;28mself\u001b[39m, master=\u001b[38;5;28;01mNone\u001b[39;00m, cnf={}, **kw):\n\u001b[32m   3219\u001b[39m \u001b[38;5;250m    \u001b[39m\u001b[33;03m\"\"\"Construct a label widget with the parent MASTER.\u001b[39;00m\n\u001b[32m   3220\u001b[39m \n\u001b[32m   3221\u001b[39m \u001b[33;03m    STANDARD OPTIONS\u001b[39;00m\n\u001b[32m   (...)\u001b[39m\u001b[32m   3234\u001b[39m \n\u001b[32m   3235\u001b[39m \u001b[33;03m    \"\"\"\u001b[39;00m\n\u001b[32m-> \u001b[39m\u001b[32m3236\u001b[39m     Widget.\u001b[34m__init__\u001b[39m(\u001b[38;5;28mself\u001b[39m, master, \u001b[33m'\u001b[39m\u001b[33mlabel\u001b[39m\u001b[33m'\u001b[39m, cnf, kw)\n",
      "\u001b[36mFile \u001b[39m\u001b[32mc:\\Users\\aasth\\anaconda3\\envs\\projenv\\Lib\\tkinter\\__init__.py:2647\u001b[39m, in \u001b[36mBaseWidget.__init__\u001b[39m\u001b[34m(self, master, widgetName, cnf, kw, extra)\u001b[39m\n\u001b[32m   2645\u001b[39m \u001b[38;5;28;01mfor\u001b[39;00m k, v \u001b[38;5;129;01min\u001b[39;00m classes:\n\u001b[32m   2646\u001b[39m     \u001b[38;5;28;01mdel\u001b[39;00m cnf[k]\n\u001b[32m-> \u001b[39m\u001b[32m2647\u001b[39m \u001b[38;5;28mself\u001b[39m.tk.call(\n\u001b[32m   2648\u001b[39m     (widgetName, \u001b[38;5;28mself\u001b[39m._w) + extra + \u001b[38;5;28mself\u001b[39m._options(cnf))\n\u001b[32m   2649\u001b[39m \u001b[38;5;28;01mfor\u001b[39;00m k, v \u001b[38;5;129;01min\u001b[39;00m classes:\n\u001b[32m   2650\u001b[39m     k.configure(\u001b[38;5;28mself\u001b[39m, v)\n",
      "\u001b[31mTclError\u001b[39m: image \"pyimage9\" doesn't exist"
     ]
    }
   ],
   "source": [
    "obj = NewsApp()"
   ]
  },
  {
   "cell_type": "code",
   "execution_count": null,
   "id": "2560c6a6",
   "metadata": {},
   "outputs": [],
   "source": []
  }
 ],
 "metadata": {
  "kernelspec": {
   "display_name": "projenv",
   "language": "python",
   "name": "python3"
  },
  "language_info": {
   "codemirror_mode": {
    "name": "ipython",
    "version": 3
   },
   "file_extension": ".py",
   "mimetype": "text/x-python",
   "name": "python",
   "nbconvert_exporter": "python",
   "pygments_lexer": "ipython3",
   "version": "3.11.13"
  }
 },
 "nbformat": 4,
 "nbformat_minor": 5
}
