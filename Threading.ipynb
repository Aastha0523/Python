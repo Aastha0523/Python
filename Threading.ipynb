{
 "cells": [
  {
   "cell_type": "code",
   "execution_count": 6,
   "id": "50743a30",
   "metadata": {},
   "outputs": [
    {
     "name": "stdout",
     "output_type": "stream",
     "text": [
      "Going to sleep\n",
      "woke up\n",
      "Going to sleep\n",
      "woke up\n",
      "Going to sleep\n",
      "woke up\n",
      "Going to sleep\n",
      "woke up\n",
      "Going to sleep\n",
      "woke up\n",
      "Going to sleep\n",
      "woke up\n",
      "Going to sleep\n",
      "woke up\n",
      "Going to sleep\n",
      "woke up\n",
      "Going to sleep\n",
      "woke up\n",
      "Going to sleep\n",
      "woke up\n",
      "Main Thread Ended in 10.005082607269287 seconds\n"
     ]
    }
   ],
   "source": [
    "from time import sleep, time\n",
    "start_time = time()\n",
    "\n",
    "def something():\n",
    "    print(\"Going to sleep\")\n",
    "    sleep(1)\n",
    "    print('woke up')\n",
    "\n",
    "for _ in range(10):something()\n",
    "\n",
    "end_time = time()\n",
    "print(f\"Main Thread Ended in {end_time - start_time} seconds\")"
   ]
  },
  {
   "cell_type": "code",
   "execution_count": 9,
   "id": "9ecada85",
   "metadata": {},
   "outputs": [
    {
     "name": "stdout",
     "output_type": "stream",
     "text": [
      "Going to sleep 0\n",
      "Main Thread Ended in 0.002361774444580078 seconds\n"
     ]
    },
    {
     "name": "stdout",
     "output_type": "stream",
     "text": [
      "woke up 0\n"
     ]
    }
   ],
   "source": [
    "from time import sleep, time\n",
    "import threading\n",
    "\n",
    "start_time = time()\n",
    "\n",
    "def something(id):\n",
    "    print(f\"Going to sleep {id}\")\n",
    "    sleep(1)\n",
    "    print(f'woke up {id}')\n",
    "\n",
    "t1 = threading.Thread(target=something, args = [0])\n",
    "t1.start()\n",
    "\n",
    "end_time = time()\n",
    "print(f\"Main Thread Ended in {end_time - start_time} seconds\")"
   ]
  },
  {
   "cell_type": "code",
   "execution_count": 10,
   "id": "c595bc01",
   "metadata": {},
   "outputs": [
    {
     "name": "stdout",
     "output_type": "stream",
     "text": [
      "Going to sleep 0\n",
      "woke up 0\n",
      "Main Thread Ended in 1.0033862590789795 seconds\n"
     ]
    }
   ],
   "source": [
    "from time import sleep, time\n",
    "import threading\n",
    "\n",
    "start_time = time()\n",
    "\n",
    "def something(id):\n",
    "    print(f\"Going to sleep {id}\")\n",
    "    sleep(1)\n",
    "    print(f'woke up {id}')\n",
    "\n",
    "t1 = threading.Thread(target=something, args = [0])\n",
    "t1.start()\n",
    "\n",
    "t1.join()\n",
    "end_time = time()\n",
    "print(f\"Main Thread Ended in {end_time - start_time} seconds\")"
   ]
  },
  {
   "cell_type": "code",
   "execution_count": 13,
   "id": "fdc53357",
   "metadata": {},
   "outputs": [
    {
     "name": "stdout",
     "output_type": "stream",
     "text": [
      "Going to sleep 0\n",
      "Going to sleep 1\n",
      "woke up 0\n",
      "woke up 1\n",
      "Main Thread Ended in 1.0035386085510254 seconds\n"
     ]
    }
   ],
   "source": [
    "from time import sleep, time\n",
    "import threading\n",
    "\n",
    "start_time = time()\n",
    "\n",
    "def something(id):\n",
    "    print(f\"Going to sleep {id}\")\n",
    "    sleep(1)\n",
    "    print(f'woke up {id}')\n",
    "\n",
    "t1 = threading.Thread(target=something, args = [0])\n",
    "t2 = threading.Thread(target=something, args = [1])\n",
    "\n",
    "t1.start()\n",
    "t2.start()\n",
    "t1.join()\n",
    "t2.join()\n",
    "\n",
    "end_time = time()\n",
    "print(f\"Main Thread Ended in {end_time - start_time} seconds\")"
   ]
  },
  {
   "cell_type": "code",
   "execution_count": 15,
   "id": "d9378bd8",
   "metadata": {},
   "outputs": [
    {
     "name": "stdout",
     "output_type": "stream",
     "text": [
      "Going to sleep 0\n",
      "Going to sleep 1\n",
      "Going to sleep 2\n",
      "Going to sleep 3\n",
      "Going to sleep 4\n",
      "Going to sleep 5\n",
      "Going to sleep 6\n",
      "Going to sleep 7\n",
      "Going to sleep 8\n",
      "Going to sleep 9\n",
      "woke up 0\n",
      "woke up 4\n",
      "woke up 2\n",
      "woke up 3\n",
      "woke up 1\n",
      "woke up 7\n",
      "woke up 5\n",
      "woke up 6\n",
      "woke up 9\n",
      "woke up 8\n",
      "Main Thread Ended in 1.005091905593872 seconds\n"
     ]
    }
   ],
   "source": [
    "from time import sleep, time\n",
    "import threading\n",
    "\n",
    "start_time = time()\n",
    "\n",
    "def something(id):\n",
    "    print(f\"Going to sleep {id}\")\n",
    "    sleep(1)\n",
    "    print(f'woke up {id}')\n",
    "\n",
    "threads = [threading.Thread(target=something, args=[i]) for i in range(10)]\n",
    "\n",
    "for thread in threads: \n",
    "    thread.start()\n",
    "for thread in threads:\n",
    "    thread.join()\n",
    "\n",
    "end_time = time()\n",
    "print(f\"Main Thread Ended in {end_time - start_time} seconds\")"
   ]
  },
  {
   "cell_type": "code",
   "execution_count": null,
   "id": "9308c104",
   "metadata": {},
   "outputs": [
    {
     "name": "stdout",
     "output_type": "stream",
     "text": [
      "200\n"
     ]
    }
   ],
   "source": [
    "balance = 200\n",
    "\n",
    "def deposit(amount,times):\n",
    "    global balance\n",
    "\n",
    "    for _ in range(times):\n",
    "        balance +=amount\n",
    "\n",
    "def withdraw(amount, times):\n",
    "    global balance\n",
    "\n",
    "    for _ in range(times):\n",
    "        balance -=amount\n",
    "\n",
    "deposit_thread = threading.Thread(target=deposit, args=[1,100])\n",
    "withdraw_thread = threading.Thread(target=withdraw, args=[1,100])\n",
    "\n",
    "deposit_thread.start()\n",
    "withdraw_thread.start()\n",
    "\n",
    "deposit_thread.join()\n",
    "withdraw_thread.join()\n",
    "\n",
    "print(balance)\n",
    "#updating values in different threads -> 2 request comes at one time but 1 request is taken"
   ]
  },
  {
   "cell_type": "code",
   "execution_count": 22,
   "id": "73789e4a",
   "metadata": {},
   "outputs": [
    {
     "name": "stdout",
     "output_type": "stream",
     "text": [
      "200\n"
     ]
    }
   ],
   "source": [
    "balance = 200\n",
    "\n",
    "lock = threading.Lock()\n",
    "\n",
    "def deposit(amount,times, lock):\n",
    "    global balance\n",
    "\n",
    "    for _ in range(times):\n",
    "        lock.acquire()\n",
    "        balance +=amount\n",
    "        lock.release()\n",
    "\n",
    "def withdraw(amount, times,lock):\n",
    "    global balance\n",
    "\n",
    "    for _ in range(times):\n",
    "        lock.acquire()\n",
    "        balance -=amount\n",
    "        lock.release()\n",
    "\n",
    "deposit_thread = threading.Thread(target=deposit, args=[1,100, lock])\n",
    "withdraw_thread = threading.Thread(target=withdraw, args=[1,100, lock])\n",
    "\n",
    "deposit_thread.start()\n",
    "withdraw_thread.start()\n",
    "\n",
    "deposit_thread.join()\n",
    "withdraw_thread.join()\n",
    "\n",
    "print(balance)"
   ]
  },
  {
   "cell_type": "code",
   "execution_count": null,
   "id": "33dc87ff",
   "metadata": {},
   "outputs": [],
   "source": []
  }
 ],
 "metadata": {
  "kernelspec": {
   "display_name": "projenv",
   "language": "python",
   "name": "python3"
  },
  "language_info": {
   "codemirror_mode": {
    "name": "ipython",
    "version": 3
   },
   "file_extension": ".py",
   "mimetype": "text/x-python",
   "name": "python",
   "nbconvert_exporter": "python",
   "pygments_lexer": "ipython3",
   "version": "3.11.13"
  }
 },
 "nbformat": 4,
 "nbformat_minor": 5
}
