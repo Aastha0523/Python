{
 "cells": [
  {
   "cell_type": "code",
   "execution_count": null,
   "id": "47dde565",
   "metadata": {},
   "outputs": [
    {
     "ename": "NameError",
     "evalue": "name 'a' is not defined",
     "output_type": "error",
     "traceback": [
      "\u001b[31m---------------------------------------------------------------------------\u001b[39m",
      "\u001b[31mNameError\u001b[39m                                 Traceback (most recent call last)",
      "\u001b[36mCell\u001b[39m\u001b[36m \u001b[39m\u001b[32mIn[1]\u001b[39m\u001b[32m, line 1\u001b[39m\n\u001b[32m----> \u001b[39m\u001b[32m1\u001b[39m a\n",
      "\u001b[31mNameError\u001b[39m: name 'a' is not defined"
     ]
    }
   ],
   "source": [
    "a#name "
   ]
  },
  {
   "cell_type": "code",
   "execution_count": 4,
   "id": "7ad4b962",
   "metadata": {},
   "outputs": [
    {
     "name": "stdout",
     "output_type": "stream",
     "text": [
      "140730567807880\n",
      "0x7ffe6380d388\n"
     ]
    }
   ],
   "source": [
    "a=4\n",
    "print(id(a))\n",
    "print(hex(id(a)))\n",
    "#call by object reference"
   ]
  },
  {
   "cell_type": "code",
   "execution_count": 8,
   "id": "545581fd",
   "metadata": {},
   "outputs": [
    {
     "name": "stdout",
     "output_type": "stream",
     "text": [
      "140730567807912\n",
      "140730567807912\n",
      "5\n",
      "6\n",
      "5\n"
     ]
    }
   ],
   "source": [
    "#aliasing\n",
    "a=5\n",
    "b=a\n",
    "print(id(a))\n",
    "print(id(b))\n",
    "del a\n",
    "print(b)\n",
    "a=5\n",
    "b=a\n",
    "a=6\n",
    "print(a)\n",
    "print(b)"
   ]
  },
  {
   "cell_type": "code",
   "execution_count": 10,
   "id": "15b5c4b8",
   "metadata": {},
   "outputs": [
    {
     "name": "stdout",
     "output_type": "stream",
     "text": [
      "2194992253552\n",
      "2194992253552\n",
      "2194992253552\n",
      "corona\n",
      "corona\n",
      "6\n"
     ]
    }
   ],
   "source": [
    "#reference counting\n",
    "import sys\n",
    "a = \"corona\"\n",
    "b=a \n",
    "c=b\n",
    "print(id(a))\n",
    "print(id(b))\n",
    "print(id(c))\n",
    "print(b)\n",
    "print(c)\n",
    "print(sys.getrefcount(a))\n"
   ]
  },
  {
   "cell_type": "code",
   "execution_count": 11,
   "id": "e7812287",
   "metadata": {},
   "outputs": [],
   "source": [
    "#garbage collection\n",
    "a=3\n",
    "b=a\n",
    "c=b\n",
    "del a\n",
    "del b\n",
    "del c\n",
    "#3 is taking memory still -> garbage collector, runs periodically, frees up space"
   ]
  },
  {
   "cell_type": "code",
   "execution_count": 16,
   "id": "28df2bc0",
   "metadata": {},
   "outputs": [
    {
     "name": "stdout",
     "output_type": "stream",
     "text": [
      "1000003685\n",
      "5\n"
     ]
    }
   ],
   "source": [
    "#1\n",
    "a=2\n",
    "b=a\n",
    "c=b\n",
    "print(sys.getrefcount(a))\n",
    "#2 is already present at some places, as it's a very common no.\n",
    "\n",
    "a = 717\n",
    "b = a\n",
    "c = b\n",
    "print(sys.getrefcount(a))\n",
    "#717 is rarely used no.\n"
   ]
  },
  {
   "cell_type": "code",
   "execution_count": 21,
   "id": "5114feaf",
   "metadata": {},
   "outputs": [
    {
     "name": "stdout",
     "output_type": "stream",
     "text": [
      "2\n",
      "2\n",
      "140730567807880\n",
      "140730567807880\n",
      "140730567815944\n",
      "140730567815944\n",
      "2194990946960\n",
      "2194990955664\n",
      "140730567807592\n",
      "140730567807592\n",
      "2194990952144\n",
      "2194990956112\n"
     ]
    }
   ],
   "source": [
    "#2\n",
    "d=717\n",
    "print(sys.getrefcount(a))\n",
    "d=c\n",
    "print(sys.getrefcount(a))\n",
    "\n",
    "a=4\n",
    "b=4\n",
    "print(id(a))\n",
    "print(id(b))\n",
    "\n",
    "a = 256\n",
    "b = 256\n",
    "print(id(a))\n",
    "print(id(b))\n",
    "\n",
    "a = 257\n",
    "b = 257\n",
    "print(id(a))\n",
    "print(id(b))\n",
    "\n",
    "a = -5\n",
    "b = -5\n",
    "print(id(a))\n",
    "print(id(b))\n",
    "\n",
    "a = -6\n",
    "b = -6\n",
    "print(id(a))\n",
    "print(id(b))\n",
    "\n",
    "# range is between -5 to 256 -> id same (software optimization) -> most commonly used numbers are between -5 and 256\n",
    "\n"
   ]
  },
  {
   "cell_type": "code",
   "execution_count": 23,
   "id": "a6451f23",
   "metadata": {},
   "outputs": [
    {
     "name": "stdout",
     "output_type": "stream",
     "text": [
      "2194992168880\n",
      "2194992168880\n",
      "2194992466000\n",
      "2194941262736\n",
      "2194991852048\n",
      "2194991852048\n"
     ]
    }
   ],
   "source": [
    "#3\n",
    "a = \"haldia\" #valid identifier\n",
    "b = \"haldia\"\n",
    "print(id(a))\n",
    "print(id(b))\n",
    "\n",
    "a = \"haldia inst tech\" #invalid identifier\n",
    "b = \"haldia inst tech\"\n",
    "print(id(a))\n",
    "print(id(b))\n",
    "\n",
    "a = \"haldia_inst_tech\" #valid identifier\n",
    "b = \"haldia_inst_tech\"\n",
    "print(id(a))\n",
    "print(id(b))"
   ]
  },
  {
   "cell_type": "code",
   "execution_count": 31,
   "id": "bf7a532f",
   "metadata": {},
   "outputs": [
    {
     "name": "stdout",
     "output_type": "stream",
     "text": [
      "2194992958464\n",
      "140730567807784\n",
      "140730567807784\n",
      "140730567807816\n",
      "140730567807816\n",
      "140730567807848\n",
      "140730567807848\n",
      "140730567807784\n",
      "140730567807784\n",
      "2194992957312\n",
      "140730567807784\n",
      "2194992963072\n",
      "140730567807880\n",
      "140730567807880\n"
     ]
    }
   ],
   "source": [
    "L = [1,2,3]\n",
    "print(id(L))  \n",
    "\n",
    "print(id(1)) \n",
    "print(id(L[0]))\n",
    "print(id(2))\n",
    "print(id(L[1]))\n",
    "print(id(3))\n",
    "print(id(L[2])) \n",
    "\n",
    "L[2] = 1\n",
    "print(id(L[2]))\n",
    "print(id(L[0]))\n",
    "\n",
    "L = [1,2,3,[4,5]]\n",
    "print(id(L))\n",
    "print(id(1))\n",
    "print(id(L[3]))\n",
    "print(id(4))\n",
    "print(id(L[3][0]))"
   ]
  },
  {
   "cell_type": "markdown",
   "id": "32a10979",
   "metadata": {},
   "source": [
    "Mutability refers to the ability to change or edit data in it's memory location."
   ]
  },
  {
   "cell_type": "code",
   "execution_count": null,
   "id": "37d91b06",
   "metadata": {},
   "outputs": [
    {
     "name": "stdout",
     "output_type": "stream",
     "text": [
      "2194952232432\n",
      "2194992940656\n",
      "2194992985152\n",
      "2194992864512\n",
      "2194992961856\n",
      "2194992961856\n",
      "2194992883648\n",
      "2194992883648\n",
      "2194992883648\n",
      "[1, 2, 3, 4]\n",
      "[1, 2, 3, 4]\n"
     ]
    }
   ],
   "source": [
    "#immutable\n",
    "a = \"hello\"\n",
    "print(id(a)) \n",
    "a = a+\"world\" #hello becomes garbage value and a starts to point to new address\n",
    "print(id(a))\n",
    "\n",
    "t = (1,2,3)\n",
    "print(id(t))\n",
    "t = t +(5,6)\n",
    "print(id(t))\n",
    "\n",
    "#mutable\n",
    "l = [1,2,3]\n",
    "print(id(l))\n",
    "l.append(4)\n",
    "print(id(l))\n",
    "\n",
    "l=[1,2,3]\n",
    "l1=l\n",
    "print(id(l))\n",
    "print(id(l1))\n",
    "\n",
    "l1.append(4)\n",
    "print(id(l1))\n",
    "print(l1)\n",
    "print(l) #changes made to l too -> solution is cloning"
   ]
  },
  {
   "cell_type": "code",
   "execution_count": 38,
   "id": "e790ed36",
   "metadata": {},
   "outputs": [
    {
     "name": "stdout",
     "output_type": "stream",
     "text": [
      "2194992939520\n",
      "2194993306496\n",
      "[1, 2, 3, 4, 5]\n",
      "[1, 2, 3, 4]\n"
     ]
    }
   ],
   "source": [
    "#cloning\n",
    "l = [1,2,3,4]\n",
    "l1=l[:]\n",
    "print(id(l))\n",
    "print(id(l1)) #different add\n",
    "l1.append(5)\n",
    "print(l1)\n",
    "print(l)"
   ]
  },
  {
   "cell_type": "code",
   "execution_count": 51,
   "id": "f56f18b6",
   "metadata": {},
   "outputs": [
    {
     "name": "stdout",
     "output_type": "stream",
     "text": [
      "[1, 2, 3, [4, 5]]\n",
      "[1, 2, 3, [4, 500]]\n",
      "([1, 2], [3, 4])\n",
      "2194994249536\n",
      "2194993629376\n",
      "2194992738432\n",
      "2194994249536\n",
      "2194992738432\n",
      "2194977721792\n",
      "2194977721792\n",
      "2194993632960\n",
      "[100, 2]\n",
      "[100, 2, 5, 6]\n",
      "([100, 2], [3, 4])\n"
     ]
    }
   ],
   "source": [
    "#example\n",
    "a = [1,2,3,[4,5]]\n",
    "print(a)\n",
    "a[-1][-1] = 500\n",
    "print(a)\n",
    "\n",
    "a=[1,2,3,(4,5)]\n",
    "#a[-1][-1] = 500 #tuple is immutable, address can't be changed\n",
    "\n",
    "\n",
    "a = [1,2]\n",
    "b=[3,4]\n",
    "c=(a,b)\n",
    "print(c)\n",
    "\n",
    "print(id(a))\n",
    "print(id(b))\n",
    "print(id(c))\n",
    "\n",
    "c[0][0] = 100\n",
    "print(id(a))\n",
    "print(id(c))\n",
    "\n",
    "L=[1,2,3]\n",
    "print(id(L))\n",
    "L.append(4)\n",
    "print(id(L))\n",
    "L=L+[5,6] #address changes\n",
    "print(id(L))\n",
    "\n",
    "#c[0] = c[0] + [5,6] ->concat -> break connection of tuple\n",
    "print(a)\n",
    "a=a+[5,6]\n",
    "\n",
    "print(a)\n",
    "print(c)"
   ]
  },
  {
   "cell_type": "code",
   "execution_count": null,
   "id": "b553760e",
   "metadata": {},
   "outputs": [],
   "source": []
  }
 ],
 "metadata": {
  "kernelspec": {
   "display_name": "projenv",
   "language": "python",
   "name": "python3"
  },
  "language_info": {
   "codemirror_mode": {
    "name": "ipython",
    "version": 3
   },
   "file_extension": ".py",
   "mimetype": "text/x-python",
   "name": "python",
   "nbconvert_exporter": "python",
   "pygments_lexer": "ipython3",
   "version": "3.11.13"
  }
 },
 "nbformat": 4,
 "nbformat_minor": 5
}
