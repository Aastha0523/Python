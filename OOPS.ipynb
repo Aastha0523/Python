{
 "cells": [
  {
   "cell_type": "code",
   "execution_count": 1,
   "id": "8c9e3146",
   "metadata": {},
   "outputs": [
    {
     "ename": "AttributeError",
     "evalue": "'list' object has no attribute 'upper'",
     "output_type": "error",
     "traceback": [
      "\u001b[31m---------------------------------------------------------------------------\u001b[39m",
      "\u001b[31mAttributeError\u001b[39m                            Traceback (most recent call last)",
      "\u001b[36mCell\u001b[39m\u001b[36m \u001b[39m\u001b[32mIn[1]\u001b[39m\u001b[32m, line 2\u001b[39m\n\u001b[32m      1\u001b[39m L = [\u001b[32m1\u001b[39m,\u001b[32m2\u001b[39m,\u001b[32m3\u001b[39m,\u001b[32m4\u001b[39m]\n\u001b[32m----> \u001b[39m\u001b[32m2\u001b[39m L.upper()\n",
      "\u001b[31mAttributeError\u001b[39m: 'list' object has no attribute 'upper'"
     ]
    }
   ],
   "source": [
    "L = [1,2,3,4]\n",
    "L.upper()"
   ]
  },
  {
   "cell_type": "code",
   "execution_count": 2,
   "id": "77a0128d",
   "metadata": {},
   "outputs": [
    {
     "ename": "AttributeError",
     "evalue": "'str' object has no attribute 'append'",
     "output_type": "error",
     "traceback": [
      "\u001b[31m---------------------------------------------------------------------------\u001b[39m",
      "\u001b[31mAttributeError\u001b[39m                            Traceback (most recent call last)",
      "\u001b[36mCell\u001b[39m\u001b[36m \u001b[39m\u001b[32mIn[2]\u001b[39m\u001b[32m, line 2\u001b[39m\n\u001b[32m      1\u001b[39m city = \u001b[33m'\u001b[39m\u001b[33mkolkata\u001b[39m\u001b[33m'\u001b[39m\n\u001b[32m----> \u001b[39m\u001b[32m2\u001b[39m city.append(\u001b[33m'\u001b[39m\u001b[33ma\u001b[39m\u001b[33m'\u001b[39m)\n",
      "\u001b[31mAttributeError\u001b[39m: 'str' object has no attribute 'append'"
     ]
    }
   ],
   "source": [
    "city = 'kolkata'\n",
    "city.append('a')"
   ]
  },
  {
   "cell_type": "markdown",
   "id": "582bf0f0",
   "metadata": {},
   "source": [
    "everything is an object\n",
    "what is an object?\n",
    "generality to specificity \n",
    "oops -> make your own objects"
   ]
  },
  {
   "cell_type": "markdown",
   "id": "90a12217",
   "metadata": {},
   "source": [
    "OOPs Concepts-\n",
    "1. Class\n",
    "2. Object\n",
    "3. Abstraction\n",
    "4. Inheritence\n",
    "5. Encapsulation"
   ]
  },
  {
   "cell_type": "code",
   "execution_count": 6,
   "id": "0efd1999",
   "metadata": {},
   "outputs": [
    {
     "data": {
      "text/plain": [
       "int"
      ]
     },
     "execution_count": 6,
     "metadata": {},
     "output_type": "execute_result"
    }
   ],
   "source": [
    "#Class  -> a blueprint (object is of a class)\n",
    "a = 2\n",
    "type(a)\n",
    "#'a' is object and int is class"
   ]
  },
  {
   "cell_type": "markdown",
   "id": "3d534166",
   "metadata": {},
   "source": [
    "Class:\n",
    "1. Data or property\n",
    "2. Functions or behavior\n",
    "\n",
    "Class name should be in PascalCase.\n",
    "Variable and function name should be in snake_case.\n",
    "\n",
    "Data is generally private, donated by -.\n",
    "Methods are public, donated by +."
   ]
  },
  {
   "cell_type": "markdown",
   "id": "b7ba4433",
   "metadata": {},
   "source": [
    "Function isn't written inside a class -> anyone can access it\n",
    "Method is a function written inside a class -> only object inside the class can access it\n",
    "len(L) #function\n",
    "L.append(1) #method"
   ]
  },
  {
   "cell_type": "code",
   "execution_count": 35,
   "id": "b4b230e5",
   "metadata": {},
   "outputs": [],
   "source": [
    "class Atm:\n",
    "    #constructor\n",
    "    def __init__(self):\n",
    "        self.pin =\"\"\n",
    "        self.balance=0\n",
    "        self.menu()\n",
    "        print(id(self))\n",
    "    def menu(self):\n",
    "        user_input = input(\"\"\"\n",
    "                           Hello, how would you like to proceed?\n",
    "                           1) Enter 1 to create a pin\n",
    "                           2) Enter 2 to deposit\n",
    "                           3) Enter 3 to withdraw\n",
    "                           4) Enter 4 to check balance\n",
    "                           5) Enter 5 to exit\n",
    "\"\"\")\n",
    "        if user_input == \"1\":\n",
    "            print('create pin')\n",
    "            self.create_pin()\n",
    "        elif user_input == \"2\":\n",
    "            print('deposit')\n",
    "            self.deposit()\n",
    "        elif user_input == '3':\n",
    "            print(\"withdraw\")\n",
    "            self.withdraw()\n",
    "        elif user_input == '4':\n",
    "            print('balance')\n",
    "            self.check_balance()\n",
    "        else: \n",
    "            print('exit')\n",
    "    def create_pin(self):\n",
    "        self.pin = input(\"enter your pin\")\n",
    "        print(\"pin set successfully\")\n",
    "    def deposit(self):\n",
    "        temp = input(\"enter your pin\")\n",
    "        if temp == self.pin:\n",
    "            amount = int(input(\"enter the amount\"))\n",
    "            self.balance = self.balance+amount\n",
    "            print(\"deposit successful\")\n",
    "        else:\n",
    "            print(\"invalid pin\")\n",
    "    def withdraw(self):\n",
    "        temp = input(\"enter your pin\")\n",
    "        if temp == self.pin:\n",
    "            amount = int(input(\"enter the amount\"))\n",
    "            if amount < self.balance:\n",
    "                self.balance = self.balance-amount\n",
    "                print(\"withdraw successful\")\n",
    "            else:\n",
    "                print(\"insufficient funds\")\n",
    "        else:\n",
    "            print(\"invalid pin\")\n",
    "    def check_balance(self):\n",
    "        temp = input(\"enter your pin\")\n",
    "        if temp == self.pin:\n",
    "            print(self.balance)\n",
    "        else:\n",
    "            print(\"invalid pin\")"
   ]
  },
  {
   "cell_type": "code",
   "execution_count": 36,
   "id": "84488a4e",
   "metadata": {},
   "outputs": [
    {
     "name": "stdout",
     "output_type": "stream",
     "text": [
      "exit\n",
      "1857277881488\n"
     ]
    }
   ],
   "source": [
    "sbi = Atm()"
   ]
  },
  {
   "cell_type": "code",
   "execution_count": 37,
   "id": "25dba455",
   "metadata": {},
   "outputs": [
    {
     "name": "stdout",
     "output_type": "stream",
     "text": [
      "invalid pin\n"
     ]
    },
    {
     "data": {
      "text/plain": [
       "1857277881488"
      ]
     },
     "execution_count": 37,
     "metadata": {},
     "output_type": "execute_result"
    }
   ],
   "source": [
    "sbi.deposit()\n",
    "id(sbi)"
   ]
  },
  {
   "cell_type": "markdown",
   "id": "fbedfa8b",
   "metadata": {},
   "source": [
    "Special/Magic/Dunder Method:(predefined) ->  constructor(init)\n",
    "\n",
    "__init__, __abs__, __bool__ etc\n",
    "\n",
    "object doesn't call these methods. On a given criteria, these methods call themselves.\n",
    "\n",
    "Constructor has all the things that we don't want a user to use.\n",
    "ex - connected database to an app -> inside constructor"
   ]
  },
  {
   "cell_type": "markdown",
   "id": "bdc23884",
   "metadata": {},
   "source": [
    "self:\n",
    "current object and self have same address, cause they are the same thing. Any other object will have someother address.\n",
    "\n",
    "why does every function in class needs self?\n",
    "\n",
    "method and class can be accessed by the class's object. Methods within the same class can't access each other -> only done using object, hence self."
   ]
  },
  {
   "cell_type": "code",
   "execution_count": 44,
   "id": "9128f982",
   "metadata": {},
   "outputs": [
    {
     "name": "stdout",
     "output_type": "stream",
     "text": [
      "76/45\n",
      "-4/45\n",
      "32/45\n",
      "36/40\n"
     ]
    }
   ],
   "source": [
    "#create a new datatype (fraction)\n",
    "\n",
    "class Fraction:\n",
    "    def __init__(self, n, d):\n",
    "        self.num = n\n",
    "        self.den = d\n",
    "    def __str__(self):\n",
    "        return \"{}/{}\".format(self.num, self.den)\n",
    "    def __add__(self, other):\n",
    "        temp_num = self.num*other.den+other.num*self.den\n",
    "        temp_den = self.den*other.den\n",
    "        return \"{}/{}\".format(temp_num, temp_den)\n",
    "    def __sub__(self, other):\n",
    "        temp_num = self.num*other.den-other.num*self.den\n",
    "        temp_den = self.den*other.den\n",
    "        return \"{}/{}\".format(temp_num, temp_den)\n",
    "    def __mul__(self, other):\n",
    "        temp_num = self.num*other.num\n",
    "        temp_den = self.den*other.den\n",
    "        return \"{}/{}\".format(temp_num, temp_den)\n",
    "    def __truediv__(self, other):\n",
    "        temp_num = self.num*other.den\n",
    "        temp_den = other.num*self.den\n",
    "        return \"{}/{}\".format(temp_num, temp_den)\n",
    "\n",
    "x = Fraction(4,5)\n",
    "y = Fraction(8,9)\n",
    "print(x+y)\n",
    "print(x-y)\n",
    "print(x*y)\n",
    "print(x/y)"
   ]
  },
  {
   "cell_type": "markdown",
   "id": "5ef3f318",
   "metadata": {},
   "source": [
    "What is an instance variable?\n",
    "any variable inside constructor because their value is different for every object."
   ]
  },
  {
   "cell_type": "markdown",
   "id": "1dcf8d36",
   "metadata": {},
   "source": [
    "Encapsulation"
   ]
  },
  {
   "cell_type": "code",
   "execution_count": 46,
   "id": "d42d4108",
   "metadata": {},
   "outputs": [
    {
     "name": "stdout",
     "output_type": "stream",
     "text": [
      "create pin\n",
      "pin set successfully\n",
      "1857279770128\n"
     ]
    },
    {
     "ename": "TypeError",
     "evalue": "can only concatenate str (not \"int\") to str",
     "output_type": "error",
     "traceback": [
      "\u001b[31m---------------------------------------------------------------------------\u001b[39m",
      "\u001b[31mTypeError\u001b[39m                                 Traceback (most recent call last)",
      "\u001b[36mCell\u001b[39m\u001b[36m \u001b[39m\u001b[32mIn[46]\u001b[39m\u001b[32m, line 6\u001b[39m\n\u001b[32m      4\u001b[39m \u001b[38;5;66;03m#object can access everything in the class\u001b[39;00m\n\u001b[32m      5\u001b[39m sbi.balance = \u001b[33m\"\u001b[39m\u001b[33mabhsb\u001b[39m\u001b[33m\"\u001b[39m\n\u001b[32m----> \u001b[39m\u001b[32m6\u001b[39m sbi.deposit()\n",
      "\u001b[36mCell\u001b[39m\u001b[36m \u001b[39m\u001b[32mIn[35]\u001b[39m\u001b[32m, line 38\u001b[39m, in \u001b[36mAtm.deposit\u001b[39m\u001b[34m(self)\u001b[39m\n\u001b[32m     36\u001b[39m \u001b[38;5;28;01mif\u001b[39;00m temp == \u001b[38;5;28mself\u001b[39m.pin:\n\u001b[32m     37\u001b[39m     amount = \u001b[38;5;28mint\u001b[39m(\u001b[38;5;28minput\u001b[39m(\u001b[33m\"\u001b[39m\u001b[33menter the amount\u001b[39m\u001b[33m\"\u001b[39m))\n\u001b[32m---> \u001b[39m\u001b[32m38\u001b[39m     \u001b[38;5;28mself\u001b[39m.balance = \u001b[38;5;28mself\u001b[39m.balance+amount\n\u001b[32m     39\u001b[39m     \u001b[38;5;28mprint\u001b[39m(\u001b[33m\"\u001b[39m\u001b[33mdeposit successful\u001b[39m\u001b[33m\"\u001b[39m)\n\u001b[32m     40\u001b[39m \u001b[38;5;28;01melse\u001b[39;00m:\n",
      "\u001b[31mTypeError\u001b[39m: can only concatenate str (not \"int\") to str"
     ]
    }
   ],
   "source": [
    "sbi = Atm()\n",
    "sbi.pin \n",
    "sbi.balance\n",
    "#object can access everything in the class\n",
    "sbi.balance = \"abhsb\"\n",
    "sbi.deposit()"
   ]
  },
  {
   "cell_type": "markdown",
   "id": "158ca938",
   "metadata": {},
   "source": [
    "Leaving code open is not a good practice, ex:\n",
    "sbi.pin\n",
    "sbi.balance\n",
    "\n",
    "solution:\n",
    "hide data"
   ]
  },
  {
   "cell_type": "code",
   "execution_count": 18,
   "id": "e3e67b0b",
   "metadata": {},
   "outputs": [],
   "source": [
    "class Atm:\n",
    "    #constructor\n",
    "    def __init__(self):\n",
    "        self.__pin =\"\" #private\n",
    "        self.__balance=0\n",
    "        self.__menu()\n",
    "        print(id(self))\n",
    "    \n",
    "    def get_pin(self):\n",
    "        return self.__pin\n",
    "    def set_pin(self, new_pin):\n",
    "        if type(new_pin) == str:\n",
    "            self.__pin = new_pin\n",
    "            print(\"pin changed\")\n",
    "        else:\n",
    "            print(\"not allowed\")\n",
    "    def __menu(self):\n",
    "        user_input = input(\"\"\"\n",
    "                           Hello, how would you like to proceed?\n",
    "                           1) Enter 1 to create a pin\n",
    "                           2) Enter 2 to deposit\n",
    "                           3) Enter 3 to withdraw\n",
    "                           4) Enter 4 to check balance\n",
    "                           5) Enter 5 to exit\n",
    "\"\"\")\n",
    "        if user_input == \"1\":\n",
    "            print('create pin')\n",
    "            self.create_pin()\n",
    "        elif user_input == \"2\":\n",
    "            print('deposit')\n",
    "            self.deposit()\n",
    "        elif user_input == '3':\n",
    "            print(\"withdraw\")\n",
    "            self.withdraw()\n",
    "        elif user_input == '4':\n",
    "            print('balance')\n",
    "            self.check_balance()\n",
    "        else: \n",
    "            print('exit')\n",
    "    def create_pin(self):\n",
    "        self.__pin = input(\"enter your pin\")\n",
    "        print(\"pin set successfully\")\n",
    "    def deposit(self):\n",
    "        temp = input(\"enter your pin\")\n",
    "        if temp == self.__pin:\n",
    "            amount = int(input(\"enter the amount\"))\n",
    "            self.balance = self.__balance+amount\n",
    "            print(\"deposit successful\")\n",
    "        else:\n",
    "            print(\"invalid pin\")\n",
    "    def withdraw(self):\n",
    "        temp = input(\"enter your pin\")\n",
    "        if temp == self.__pin:\n",
    "            amount = int(input(\"enter the amount\"))\n",
    "            if amount < self.__balance:\n",
    "                self.balance = self.__balance-amount\n",
    "                print(\"withdraw successful\")\n",
    "            else:\n",
    "                print(\"insufficient funds\")\n",
    "        else:\n",
    "            print(\"invalid pin\")\n",
    "    def check_balance(self):\n",
    "        temp = input(\"enter your pin\")\n",
    "        if temp == self.__pin:\n",
    "            print(self.__balance)\n",
    "        else:\n",
    "            print(\"invalid pin\")"
   ]
  },
  {
   "cell_type": "code",
   "execution_count": 19,
   "id": "d9ffe950",
   "metadata": {},
   "outputs": [
    {
     "name": "stdout",
     "output_type": "stream",
     "text": [
      "exit\n",
      "2653112023760\n",
      "pin changed\n"
     ]
    }
   ],
   "source": [
    "sbi = Atm()\n",
    "sbi.get_pin()\n",
    "sbi.set_pin(\"2345\")"
   ]
  },
  {
   "cell_type": "markdown",
   "id": "0053615e",
   "metadata": {},
   "source": [
    "sbi.__balance = \"badb\" -> this will not edit\n",
    "sbi._Atm__balance = \"sdfb\" -> this will edit\n",
    "\n",
    "therefore, nothing in python is truly private"
   ]
  },
  {
   "cell_type": "code",
   "execution_count": 22,
   "id": "6dc3663f",
   "metadata": {},
   "outputs": [
    {
     "data": {
      "text/plain": [
       "'\\nClass Diagrams -> Skeleton Code:\\n-----------\\nATM\\n-----------\\n-PIN\\n-BALANCE\\n-----------\\n- __INIT__()\\n- MENU\\n+CHANGE_PIN()\\n+DEPOSIT\\n+WITHDRAW\\n+CHECKBALANCE\\n'"
      ]
     },
     "execution_count": 22,
     "metadata": {},
     "output_type": "execute_result"
    }
   ],
   "source": [
    "'''\n",
    "Class Diagrams -> Skeleton Code:\n",
    "-----------\n",
    "ATM\n",
    "-----------\n",
    "-PIN\n",
    "-BALANCE\n",
    "-----------\n",
    "- __INIT__()\n",
    "- MENU\n",
    "+CHANGE_PIN()\n",
    "+DEPOSIT\n",
    "+WITHDRAW\n",
    "+CHECKBALANCE\n",
    "'''"
   ]
  },
  {
   "cell_type": "code",
   "execution_count": 23,
   "id": "c0f151e6",
   "metadata": {},
   "outputs": [
    {
     "name": "stdout",
     "output_type": "stream",
     "text": [
      "exit\n",
      "2653114368592\n"
     ]
    }
   ],
   "source": [
    "#Reference variable\n",
    "sbi = Atm() # sbi is reference variable"
   ]
  },
  {
   "cell_type": "code",
   "execution_count": 24,
   "id": "0eaf3932",
   "metadata": {},
   "outputs": [
    {
     "name": "stdout",
     "output_type": "stream",
     "text": [
      "Aastha\n",
      "Hello Aastha Maam\n"
     ]
    }
   ],
   "source": [
    "#pass by reference\n",
    "class Customer:\n",
    "\n",
    "    def __init__(self, name, gender):\n",
    "        self.name=name\n",
    "        self.gender=gender\n",
    "def greet(customer):\n",
    "    if customer.gender==\"Male\":\n",
    "        print(\"Hello\", customer.name, \"Sir\")\n",
    "    else:\n",
    "        print(\"Hello\", customer.name, \"Maam\")\n",
    "cust = Customer(\"Aastha\", \"Female\")\n",
    "print(cust.name)\n",
    "greet(cust)\n"
   ]
  },
  {
   "cell_type": "code",
   "execution_count": 25,
   "id": "9bc9aa84",
   "metadata": {},
   "outputs": [
    {
     "name": "stdout",
     "output_type": "stream",
     "text": [
      "Hello Aastha Maam\n",
      "Devesh\n"
     ]
    }
   ],
   "source": [
    "#pass by reference\n",
    "class Customer:\n",
    "\n",
    "    def __init__(self, name, gender):\n",
    "        self.name=name\n",
    "        self.gender=gender\n",
    "def greet(customer):\n",
    "    if customer.gender==\"Male\":\n",
    "        print(\"Hello\", customer.name, \"Sir\")\n",
    "    else:\n",
    "        print(\"Hello\", customer.name, \"Maam\")\n",
    "    cust2 = Customer(\"Devesh\", \"Male\")\n",
    "    return cust2\n",
    "cust = Customer(\"Aastha\", \"Female\")\n",
    "\n",
    "new_cust = greet(cust)\n",
    "print(new_cust.name)"
   ]
  },
  {
   "cell_type": "code",
   "execution_count": 28,
   "id": "fd71bf60",
   "metadata": {},
   "outputs": [
    {
     "name": "stdout",
     "output_type": "stream",
     "text": [
      "2653114648400\n",
      "2653114648400\n"
     ]
    }
   ],
   "source": [
    "class Customer:\n",
    "    def __init__(self,name):\n",
    "        self.name=name\n",
    "def greet(customer):\n",
    "    print(id(customer))\n",
    "\n",
    "cust = Customer(\"Aastha\")\n",
    "print(id(cust))\n",
    "\n",
    "greet(cust)\n",
    "\n",
    "#worked like aliasing"
   ]
  },
  {
   "cell_type": "code",
   "execution_count": 34,
   "id": "ad8f67aa",
   "metadata": {},
   "outputs": [
    {
     "name": "stdout",
     "output_type": "stream",
     "text": [
      "2653113621392\n",
      "Devesh\n",
      "2653113621392\n",
      "Devesh\n"
     ]
    }
   ],
   "source": [
    "class Customer:\n",
    "    def __init__(self,name):\n",
    "        self.name=name\n",
    "def greet(customer):\n",
    "    print(id(customer))\n",
    "    customer.name = \"Devesh\"\n",
    "    print(customer.name)\n",
    "    print(id(customer))\n",
    "\n",
    "cust = Customer(\"Aastha\")\n",
    "\n",
    "greet(cust)\n",
    "\n",
    "print(cust.name)\n",
    "\n",
    "#object of a class are mutable just like lists, dicts and sets"
   ]
  },
  {
   "cell_type": "code",
   "execution_count": null,
   "id": "564b2670",
   "metadata": {},
   "outputs": [
    {
     "name": "stdout",
     "output_type": "stream",
     "text": [
      "2653113359360\n",
      "[1, 2, 3, 4]\n",
      "2653113359360\n",
      "2653113359360\n",
      "[1, 2, 3, 4, 5]\n"
     ]
    }
   ],
   "source": [
    "#LIST\n",
    "def change(L):\n",
    "    print(id(L))\n",
    "    L.append(5)\n",
    "    print(id(L))\n",
    "L1 = [1,2,3,4]\n",
    "print(id(L1))\n",
    "print(L1)\n",
    "\n",
    "change(L1)\n",
    "print(L1)"
   ]
  },
  {
   "cell_type": "code",
   "execution_count": null,
   "id": "5ba4065a",
   "metadata": {},
   "outputs": [
    {
     "name": "stdout",
     "output_type": "stream",
     "text": [
      "2653114705920\n",
      "[1, 2, 3, 4]\n",
      "2653114697088\n",
      "2653114697088\n",
      "[1, 2, 3, 4]\n"
     ]
    }
   ],
   "source": [
    "def change(L):\n",
    "    print(id(L))\n",
    "    L.append(5)\n",
    "    print(id(L))\n",
    "L1 = [1,2,3,4]\n",
    "print(id(L1))\n",
    "print(L1)\n",
    "\n",
    "change(L1[:]) #cloning\n",
    "print(L1)"
   ]
  },
  {
   "cell_type": "code",
   "execution_count": 40,
   "id": "e9c14e42",
   "metadata": {},
   "outputs": [
    {
     "name": "stdout",
     "output_type": "stream",
     "text": [
      "2653115492256\n",
      "(1, 2, 3, 4)\n",
      "2653115492256\n",
      "2653115430656\n",
      "(1, 2, 3, 4)\n"
     ]
    }
   ],
   "source": [
    "#TUPLE\n",
    "def change(L):\n",
    "    print(id(L))\n",
    "    L = L+(5,6)\n",
    "    print(id(L))\n",
    "L1 = (1,2,3,4)\n",
    "print(id(L1))\n",
    "print(L1)\n",
    "\n",
    "change(L1)\n",
    "print(L1)\n",
    "#address changed because tuple is immutable"
   ]
  },
  {
   "cell_type": "code",
   "execution_count": 42,
   "id": "b0358ecb",
   "metadata": {},
   "outputs": [
    {
     "name": "stdout",
     "output_type": "stream",
     "text": [
      "<__main__.Customer object at 0x00000269B9FF7E10>\n",
      "Nitish\n",
      "34\n",
      "<__main__.Customer object at 0x00000269B9F365D0>\n",
      "Ankit\n",
      "45\n",
      "<__main__.Customer object at 0x00000269B9DD12D0>\n",
      "Neha\n",
      "32\n"
     ]
    }
   ],
   "source": [
    "#Collection of Objects\n",
    "class Customer:\n",
    "    def __init__(self, name, age):\n",
    "        self.name=name\n",
    "        self.age=age\n",
    "c1 = Customer('Nitish', 34)\n",
    "c2 = Customer('Ankit', 45)\n",
    "c3 = Customer('Neha', 32)\n",
    "\n",
    "L = [c1,c2,c3]\n",
    "\n",
    "for i in L:\n",
    "    print(i)\n",
    "    print(i.name)\n",
    "    print(i.age)"
   ]
  },
  {
   "cell_type": "code",
   "execution_count": 43,
   "id": "0f3e86a0",
   "metadata": {},
   "outputs": [
    {
     "name": "stdout",
     "output_type": "stream",
     "text": [
      "I am  Nitish  and i am  34\n",
      "I am  Ankit  and i am  45\n",
      "I am  Neha  and i am  32\n"
     ]
    }
   ],
   "source": [
    "#Collection of Objects\n",
    "class Customer:\n",
    "    def __init__(self, name, age):\n",
    "        self.name=name\n",
    "        self.age=age\n",
    "    def intro(self):\n",
    "        print(\"I am \", self.name, \" and i am \", self.age)\n",
    "c1 = Customer('Nitish', 34)\n",
    "c2 = Customer('Ankit', 45)\n",
    "c3 = Customer('Neha', 32)\n",
    "\n",
    "L = [c1,c2,c3]\n",
    "\n",
    "for i in L:\n",
    "    i.intro()"
   ]
  },
  {
   "cell_type": "code",
   "execution_count": 56,
   "id": "93eb9670",
   "metadata": {},
   "outputs": [],
   "source": [
    "#static/class variables and methods\n",
    "\n",
    "class Atm:\n",
    "    __counter=1\n",
    "    def __init__(self):\n",
    "        #instance variable\n",
    "        self.__pin =\"\" \n",
    "        self.__balance=0\n",
    "        #class variable\n",
    "        self.sno = Atm.counter\n",
    "        Atm.__counter+=1\n",
    "        #self.__menu()\n",
    "        print(id(self))\n",
    "    \n",
    "    @staticmethod\n",
    "    def get_counter():\n",
    "        return Atm.__counter\n",
    "    @staticmethod\n",
    "    def set_counter(new):\n",
    "        if type(new) == int:\n",
    "            Atm.__counter = new\n",
    "        else:\n",
    "            print(\"not allowed\")\n",
    "    \n",
    "    def get_pin(self):\n",
    "        return self.__pin\n",
    "    def set_pin(self, new_pin):\n",
    "        if type(new_pin) == str:\n",
    "            self.__pin = new_pin\n",
    "            print(\"pin changed\")\n",
    "        else:\n",
    "            print(\"not allowed\")\n",
    "    def __menu(self):\n",
    "        user_input = input(\"\"\"\n",
    "                           Hello, how would you like to proceed?\n",
    "                           1) Enter 1 to create a pin\n",
    "                           2) Enter 2 to deposit\n",
    "                           3) Enter 3 to withdraw\n",
    "                           4) Enter 4 to check balance\n",
    "                           5) Enter 5 to exit\n",
    "\"\"\")\n",
    "        if user_input == \"1\":\n",
    "            print('create pin')\n",
    "            self.create_pin()\n",
    "        elif user_input == \"2\":\n",
    "            print('deposit')\n",
    "            self.deposit()\n",
    "        elif user_input == '3':\n",
    "            print(\"withdraw\")\n",
    "            self.withdraw()\n",
    "        elif user_input == '4':\n",
    "            print('balance')\n",
    "            self.check_balance()\n",
    "        else: \n",
    "            print('exit')\n",
    "    def create_pin(self):\n",
    "        self.__pin = input(\"enter your pin\")\n",
    "        print(\"pin set successfully\")\n",
    "    def deposit(self):\n",
    "        temp = input(\"enter your pin\")\n",
    "        if temp == self.__pin:\n",
    "            amount = int(input(\"enter the amount\"))\n",
    "            self.balance = self.__balance+amount\n",
    "            print(\"deposit successful\")\n",
    "        else:\n",
    "            print(\"invalid pin\")\n",
    "    def withdraw(self):\n",
    "        temp = input(\"enter your pin\")\n",
    "        if temp == self.__pin:\n",
    "            amount = int(input(\"enter the amount\"))\n",
    "            if amount < self.__balance:\n",
    "                self.balance = self.__balance-amount\n",
    "                print(\"withdraw successful\")\n",
    "            else:\n",
    "                print(\"insufficient funds\")\n",
    "        else:\n",
    "            print(\"invalid pin\")\n",
    "    def check_balance(self):\n",
    "        temp = input(\"enter your pin\")\n",
    "        if temp == self.__pin:\n",
    "            print(self.__balance)\n",
    "        else:\n",
    "            print(\"invalid pin\")"
   ]
  },
  {
   "cell_type": "code",
   "execution_count": 57,
   "id": "1673becd",
   "metadata": {},
   "outputs": [
    {
     "ename": "AttributeError",
     "evalue": "type object 'Atm' has no attribute 'counter'",
     "output_type": "error",
     "traceback": [
      "\u001b[31m---------------------------------------------------------------------------\u001b[39m",
      "\u001b[31mAttributeError\u001b[39m                            Traceback (most recent call last)",
      "\u001b[36mCell\u001b[39m\u001b[36m \u001b[39m\u001b[32mIn[57]\u001b[39m\u001b[32m, line 1\u001b[39m\n\u001b[32m----> \u001b[39m\u001b[32m1\u001b[39m c1 = Atm()\n\u001b[32m      2\u001b[39m c2 = Atm()\n\u001b[32m      3\u001b[39m c3 = Atm()\n",
      "\u001b[36mCell\u001b[39m\u001b[36m \u001b[39m\u001b[32mIn[56]\u001b[39m\u001b[32m, line 10\u001b[39m, in \u001b[36mAtm.__init__\u001b[39m\u001b[34m(self)\u001b[39m\n\u001b[32m      8\u001b[39m \u001b[38;5;28mself\u001b[39m.__balance=\u001b[32m0\u001b[39m\n\u001b[32m      9\u001b[39m \u001b[38;5;66;03m#class variable\u001b[39;00m\n\u001b[32m---> \u001b[39m\u001b[32m10\u001b[39m \u001b[38;5;28mself\u001b[39m.sno = Atm.counter\n\u001b[32m     11\u001b[39m Atm.__counter+=\u001b[32m1\u001b[39m\n\u001b[32m     12\u001b[39m \u001b[38;5;66;03m#self.__menu()\u001b[39;00m\n",
      "\u001b[31mAttributeError\u001b[39m: type object 'Atm' has no attribute 'counter'"
     ]
    }
   ],
   "source": [
    "c1 = Atm()\n",
    "c2 = Atm()\n",
    "c3 = Atm()\n",
    "print(c1.sno,c2.sno,c3.sno)\n",
    "#print(c1.counter)\n"
   ]
  },
  {
   "cell_type": "code",
   "execution_count": 58,
   "id": "06543be1",
   "metadata": {},
   "outputs": [
    {
     "data": {
      "text/plain": [
       "5"
      ]
     },
     "execution_count": 58,
     "metadata": {},
     "output_type": "execute_result"
    }
   ],
   "source": [
    "Atm.get_counter()\n",
    "Atm.set_counter(5)\n",
    "Atm.get_counter()"
   ]
  },
  {
   "cell_type": "markdown",
   "id": "d092f484",
   "metadata": {},
   "source": [
    "Multiple Class have relationships:\n",
    "inheritance (is a)\n",
    "aggregation (has a)"
   ]
  },
  {
   "cell_type": "code",
   "execution_count": null,
   "id": "9d276c96",
   "metadata": {},
   "outputs": [
    {
     "name": "stdout",
     "output_type": "stream",
     "text": [
      "122022\n"
     ]
    }
   ],
   "source": [
    "#Aggregation\n",
    "class Customer:\n",
    "    def __init__(self, name, gender, address):\n",
    "        self.name = name\n",
    "        self.gender = gender\n",
    "        self.address = address\n",
    "    def edit_profile(self,new_name,new_city,new_pin,new_state):\n",
    "        self.name = new_name\n",
    "        self.address.change_address(new_city,new_pin,new_state)\n",
    "\n",
    "class Address:\n",
    "    def __init__(self,city,pincode,state):\n",
    "        self.city=city\n",
    "        self.pincode=pincode\n",
    "        self.state=state\n",
    "    def change_address(self,new_city,new_pin,new_state):\n",
    "        self.city = new_city\n",
    "        self.pincode = new_pin\n",
    "        self.state = new_state\n",
    "\n",
    "add = Address(\"Kolkata\", 700156, \"WB\")\n",
    "cust = Customer(\"Nitish\",\"Male\", add)\n",
    "\n",
    "cust.edit_profile(\"Ankit\", \"Gurgaon\", 122022, \"Haryana\")\n",
    "print(cust.address.pincode)"
   ]
  },
  {
   "cell_type": "markdown",
   "id": "ceed0f82",
   "metadata": {},
   "source": [
    "INHERITENCE:\n",
    "Code Reusability\n",
    "Only child can inherit from parent:\n",
    "1) All data members\n",
    "2) member function (methods)\n",
    "3) constructor\n",
    "4) private members aren't inherited\n"
   ]
  },
  {
   "cell_type": "code",
   "execution_count": 63,
   "id": "72e50b71",
   "metadata": {},
   "outputs": [
    {
     "name": "stdout",
     "output_type": "stream",
     "text": [
      "Enroll\n",
      "Review\n",
      "login\n",
      "Register\n",
      "login\n",
      "Register\n"
     ]
    },
    {
     "ename": "AttributeError",
     "evalue": "'User' object has no attribute 'enroll'",
     "output_type": "error",
     "traceback": [
      "\u001b[31m---------------------------------------------------------------------------\u001b[39m",
      "\u001b[31mAttributeError\u001b[39m                            Traceback (most recent call last)",
      "\u001b[36mCell\u001b[39m\u001b[36m \u001b[39m\u001b[32mIn[63]\u001b[39m\u001b[32m, line 23\u001b[39m\n\u001b[32m     21\u001b[39m u.login()\n\u001b[32m     22\u001b[39m u.register()\n\u001b[32m---> \u001b[39m\u001b[32m23\u001b[39m u.enroll()\n\u001b[32m     24\u001b[39m u.review()\n",
      "\u001b[31mAttributeError\u001b[39m: 'User' object has no attribute 'enroll'"
     ]
    }
   ],
   "source": [
    "#Inheritence -> code reusability\n",
    "class User:\n",
    "    def login(self):\n",
    "        print(\"login\")\n",
    "    def register(self):\n",
    "        print(\"Register\")\n",
    "\n",
    "class Student(User):\n",
    "    def enroll(self):\n",
    "        print(\"Enroll\")\n",
    "    def review(self):\n",
    "        print(\"Review\")\n",
    "\n",
    "stu1 = Student()\n",
    "stu1.enroll()\n",
    "stu1.review()\n",
    "stu1.login()\n",
    "stu1.register()\n",
    "\n",
    "u = User()\n",
    "u.login()\n",
    "u.register()\n",
    "u.enroll()\n",
    "u.review()"
   ]
  },
  {
   "cell_type": "code",
   "execution_count": 68,
   "id": "bf9ec985",
   "metadata": {},
   "outputs": [
    {
     "name": "stdout",
     "output_type": "stream",
     "text": [
      "Inside phone constructor\n"
     ]
    },
    {
     "ename": "AttributeError",
     "evalue": "'SmartPhone' object has no attribute '__brand'",
     "output_type": "error",
     "traceback": [
      "\u001b[31m---------------------------------------------------------------------------\u001b[39m",
      "\u001b[31mAttributeError\u001b[39m                            Traceback (most recent call last)",
      "\u001b[36mCell\u001b[39m\u001b[36m \u001b[39m\u001b[32mIn[68]\u001b[39m\u001b[32m, line 11\u001b[39m\n\u001b[32m      9\u001b[39m     \u001b[38;5;28;01mpass\u001b[39;00m\n\u001b[32m     10\u001b[39m s = SmartPhone(\u001b[32m20000\u001b[39m,\u001b[33m\"\u001b[39m\u001b[33mApple\u001b[39m\u001b[33m\"\u001b[39m,\u001b[32m13\u001b[39m)\n\u001b[32m---> \u001b[39m\u001b[32m11\u001b[39m \u001b[38;5;28mprint\u001b[39m(s.__brand)\n",
      "\u001b[31mAttributeError\u001b[39m: 'SmartPhone' object has no attribute '__brand'"
     ]
    }
   ],
   "source": [
    "#Inheriting Constructor\n",
    "class Phone:\n",
    "    def __init__(self,price,brand,camera):\n",
    "        print(\"Inside phone constructor\")\n",
    "        self.price = price\n",
    "        self.__brand = brand\n",
    "        self.camera=camera\n",
    "class SmartPhone(Phone):\n",
    "    pass\n",
    "s = SmartPhone(20000,\"Apple\",13)\n",
    "print(s.__brand)"
   ]
  },
  {
   "cell_type": "code",
   "execution_count": null,
   "id": "c506934f",
   "metadata": {},
   "outputs": [
    {
     "name": "stdout",
     "output_type": "stream",
     "text": [
      "Inside phone constructor\n",
      "buying a smartphone\n"
     ]
    }
   ],
   "source": [
    "class Phone:\n",
    "    def __init__(self,price,brand,camera):\n",
    "        print(\"Inside phone constructor\")\n",
    "        self.price = price\n",
    "        self.brand = brand\n",
    "        self.camera=camera\n",
    "    def buy(self):\n",
    "        print(\"Buying a phone\")\n",
    "\n",
    "class SmartPhone(Phone):\n",
    "    def buy(self): #method overriding ->polymorphism\n",
    "        print(\"buying a smartphone\")\n",
    "\n",
    "s = SmartPhone(20000,\"Apple\",13)\n",
    "\n",
    "s.buy()"
   ]
  },
  {
   "cell_type": "code",
   "execution_count": 70,
   "id": "953269cd",
   "metadata": {},
   "outputs": [
    {
     "name": "stdout",
     "output_type": "stream",
     "text": [
      "100\n",
      "This is in child class\n"
     ]
    }
   ],
   "source": [
    "class Parent:\n",
    "    def __init__(self,num):\n",
    "        self.__num=num\n",
    "    def get_num(self):\n",
    "        return self.__num\n",
    "\n",
    "class Child(Parent):\n",
    "    def show(self):\n",
    "        print(\"This is in child class\")\n",
    "    \n",
    "son = Child(100)\n",
    "print(son.get_num())\n",
    "son.show()"
   ]
  },
  {
   "cell_type": "code",
   "execution_count": 73,
   "id": "337940ef",
   "metadata": {},
   "outputs": [
    {
     "ename": "AttributeError",
     "evalue": "'Child' object has no attribute '_Parent__num'",
     "output_type": "error",
     "traceback": [
      "\u001b[31m---------------------------------------------------------------------------\u001b[39m",
      "\u001b[31mAttributeError\u001b[39m                            Traceback (most recent call last)",
      "\u001b[36mCell\u001b[39m\u001b[36m \u001b[39m\u001b[32mIn[73]\u001b[39m\u001b[32m, line 14\u001b[39m\n\u001b[32m     11\u001b[39m         \u001b[38;5;28;01mreturn\u001b[39;00m \u001b[38;5;28mself\u001b[39m.__val\n\u001b[32m     13\u001b[39m son = Child(\u001b[32m100\u001b[39m,\u001b[32m10\u001b[39m)\n\u001b[32m---> \u001b[39m\u001b[32m14\u001b[39m \u001b[38;5;28mprint\u001b[39m(\u001b[33m\"\u001b[39m\u001b[33mParent: Num: \u001b[39m\u001b[33m\"\u001b[39m,son.get_num())\n\u001b[32m     15\u001b[39m \u001b[38;5;28mprint\u001b[39m(\u001b[33m\"\u001b[39m\u001b[33mChild: Val: \u001b[39m\u001b[33m\"\u001b[39m,son.get_val())\n",
      "\u001b[36mCell\u001b[39m\u001b[36m \u001b[39m\u001b[32mIn[73]\u001b[39m\u001b[32m, line 5\u001b[39m, in \u001b[36mParent.get_num\u001b[39m\u001b[34m(self)\u001b[39m\n\u001b[32m      4\u001b[39m \u001b[38;5;28;01mdef\u001b[39;00m\u001b[38;5;250m \u001b[39m\u001b[34mget_num\u001b[39m(\u001b[38;5;28mself\u001b[39m):\n\u001b[32m----> \u001b[39m\u001b[32m5\u001b[39m     \u001b[38;5;28;01mreturn\u001b[39;00m \u001b[38;5;28mself\u001b[39m.__num\n",
      "\u001b[31mAttributeError\u001b[39m: 'Child' object has no attribute '_Parent__num'"
     ]
    }
   ],
   "source": [
    "class Parent:\n",
    "    def __init__(self,num):\n",
    "        self.__num=num\n",
    "    def get_num(self):\n",
    "        return self.__num\n",
    "\n",
    "class Child(Parent):\n",
    "    def __init__(self,val,num):\n",
    "        self.__val=val\n",
    "    def get_val(self):\n",
    "        return self.__val\n",
    "    \n",
    "son = Child(100,10)\n",
    "print(\"Parent: Num: \",son.get_num())\n",
    "print(\"Child: Val: \",son.get_val())\n",
    "\n",
    "#if child has a constructor then parent constructor won't be called."
   ]
  },
  {
   "cell_type": "code",
   "execution_count": 74,
   "id": "a6a7a391",
   "metadata": {},
   "outputs": [
    {
     "name": "stdout",
     "output_type": "stream",
     "text": [
      "class A:  100\n"
     ]
    }
   ],
   "source": [
    "class A:\n",
    "    def __init__(self):\n",
    "        self.var1=100\n",
    "    def display1(self,var1):\n",
    "        print(\"class A: \", self.var1)\n",
    "class B(A):\n",
    "    def display2(self,var1):\n",
    "        print(\"class B: \",self.var1)\n",
    "\n",
    "obj=B()\n",
    "obj.display1(200)"
   ]
  },
  {
   "cell_type": "code",
   "execution_count": 76,
   "id": "53a1f28a",
   "metadata": {},
   "outputs": [
    {
     "name": "stdout",
     "output_type": "stream",
     "text": [
      "Inside phone constructor\n",
      "buying a smartphone\n",
      "Buying a phone\n"
     ]
    },
    {
     "ename": "AttributeError",
     "evalue": "'SmartPhone' object has no attribute 'super'",
     "output_type": "error",
     "traceback": [
      "\u001b[31m---------------------------------------------------------------------------\u001b[39m",
      "\u001b[31mAttributeError\u001b[39m                            Traceback (most recent call last)",
      "\u001b[36mCell\u001b[39m\u001b[36m \u001b[39m\u001b[32mIn[76]\u001b[39m\u001b[32m, line 19\u001b[39m\n\u001b[32m     16\u001b[39m s = SmartPhone(\u001b[32m20000\u001b[39m,\u001b[33m\"\u001b[39m\u001b[33mApple\u001b[39m\u001b[33m\"\u001b[39m,\u001b[32m13\u001b[39m)\n\u001b[32m     18\u001b[39m s.buy()\n\u001b[32m---> \u001b[39m\u001b[32m19\u001b[39m s.super().buy()\n",
      "\u001b[31mAttributeError\u001b[39m: 'SmartPhone' object has no attribute 'super'"
     ]
    }
   ],
   "source": [
    "#Super Keyword\n",
    "class Phone:\n",
    "    def __init__(self,price,brand,camera):\n",
    "        print(\"Inside phone constructor\")\n",
    "        self.price = price\n",
    "        self.brand = brand\n",
    "        self.camera=camera\n",
    "    def buy(self):\n",
    "        print(\"Buying a phone\")\n",
    "\n",
    "class SmartPhone(Phone):\n",
    "    def buy(self): \n",
    "        print(\"buying a smartphone\")\n",
    "        super().buy() #it calls parent's buy method\n",
    "\n",
    "s = SmartPhone(20000,\"Apple\",13)\n",
    "\n",
    "s.buy()\n",
    "s.super().buy() #this won't work"
   ]
  },
  {
   "cell_type": "code",
   "execution_count": 81,
   "id": "4072cb94",
   "metadata": {},
   "outputs": [
    {
     "name": "stdout",
     "output_type": "stream",
     "text": [
      "inside smartphone constructor\n",
      "Inside phone constructor\n",
      "inside smartphone constructor\n",
      "Air\n",
      "Apple\n"
     ]
    }
   ],
   "source": [
    "#Super Keyword\n",
    "class Phone:\n",
    "    def __init__(self,price,brand,camera):\n",
    "        print(\"Inside phone constructor\")\n",
    "        self.price = price\n",
    "        self.brand = brand\n",
    "        self.camera=camera\n",
    "\n",
    "class SmartPhone(Phone):\n",
    "    def __init__(self,price,brand,camera,os,ram):\n",
    "        print(\"inside smartphone constructor\")\n",
    "        super().__init__(price,brand,camera)\n",
    "        self.os=os\n",
    "        self.ram=ram\n",
    "        print(\"inside smartphone constructor\")\n",
    "\n",
    "s = SmartPhone(20000,\"Apple\",13,\"Air\",1)\n",
    "\n",
    "print(s.os)\n",
    "print(s.brand)"
   ]
  },
  {
   "cell_type": "code",
   "execution_count": 83,
   "id": "8629d978",
   "metadata": {},
   "outputs": [
    {
     "name": "stdout",
     "output_type": "stream",
     "text": [
      "Parent: Num:  10\n",
      "Child: Val:  100\n"
     ]
    }
   ],
   "source": [
    "class Parent:\n",
    "    def __init__(self,num):\n",
    "        self.__num=num\n",
    "    def get_num(self):\n",
    "        return self.__num\n",
    "\n",
    "class Child(Parent):\n",
    "    def __init__(self,val,num):\n",
    "        super().__init__(num)\n",
    "        self.__val=val\n",
    "    def get_val(self):\n",
    "        return self.__val\n",
    "    \n",
    "son = Child(100,10)\n",
    "print(\"Parent: Num: \",son.get_num())\n",
    "print(\"Child: Val: \",son.get_val())"
   ]
  },
  {
   "cell_type": "code",
   "execution_count": 86,
   "id": "b609ec0e",
   "metadata": {},
   "outputs": [
    {
     "name": "stdout",
     "output_type": "stream",
     "text": [
      "100\n",
      "200\n"
     ]
    }
   ],
   "source": [
    "class Parent:\n",
    "    def __init__(self):\n",
    "        self.num=100\n",
    "\n",
    "class Child(Parent):\n",
    "    def __init__(self):\n",
    "        super().__init__()\n",
    "        self.var=200\n",
    "    def show(self):\n",
    "        print(self.num)\n",
    "        print(self.var)\n",
    "    \n",
    "son = Child()\n",
    "son.show()\n",
    "#son is self, is son can access parent then so can self"
   ]
  },
  {
   "cell_type": "code",
   "execution_count": 87,
   "id": "fca05b10",
   "metadata": {},
   "outputs": [
    {
     "name": "stdout",
     "output_type": "stream",
     "text": [
      "Parent:  100\n",
      "Child:  200\n"
     ]
    }
   ],
   "source": [
    "class Parent:\n",
    "    def __init__(self):\n",
    "        self.__num=100\n",
    "    def show(self):\n",
    "        print(\"Parent: \",self.__num)\n",
    "\n",
    "class Child(Parent):\n",
    "    def __init__(self):\n",
    "        super().__init__()\n",
    "        self.var=200\n",
    "    def show(self):\n",
    "        print(\"Child: \",self.var)\n",
    "\n",
    "dad = Parent()\n",
    "dad.show()\n",
    "son = Child()\n",
    "son.show()"
   ]
  },
  {
   "cell_type": "markdown",
   "id": "1584bf14",
   "metadata": {},
   "source": [
    "Type of Inheritence:\n",
    "\n",
    "Single level (1P 1C)\n",
    "\n",
    "Multi level (....1GGP 1GP 1P 1C)\n",
    "\n",
    "Hierarchical (1P nC)\n",
    "\n",
    "Multiple (nP 1C)\n",
    "\n",
    "Hybrid (combination of other types of inheritence)"
   ]
  },
  {
   "cell_type": "code",
   "execution_count": null,
   "id": "c80eeeed",
   "metadata": {},
   "outputs": [
    {
     "name": "stdout",
     "output_type": "stream",
     "text": [
      "Inside phone constructor\n",
      "Buying a phone\n"
     ]
    }
   ],
   "source": [
    "#Single Inheritence\n",
    "class Phone:\n",
    "    def __init__(self,price,brand,camera):\n",
    "        print(\"Inside phone constructor\")\n",
    "        self.price = price\n",
    "        self.brand = brand\n",
    "        self.camera=camera\n",
    "    def buy(self):\n",
    "        print(\"Buying a phone\")\n",
    "    def return_phone(self):\n",
    "        print(\"Returning a phone\")\n",
    "\n",
    "class SmartPhone(Phone):\n",
    "    pass\n",
    "\n",
    "s = SmartPhone(20000,\"Apple\",13).buy()"
   ]
  },
  {
   "cell_type": "code",
   "execution_count": 95,
   "id": "31a13f58",
   "metadata": {},
   "outputs": [
    {
     "name": "stdout",
     "output_type": "stream",
     "text": [
      "Inside phone constructor\n",
      "Inside phone constructor\n",
      "Buying a phone\n",
      "Product customer review\n",
      "Product customer review\n"
     ]
    }
   ],
   "source": [
    "#Multi level inheritence\n",
    "class Product:\n",
    "    def review(self):\n",
    "        print(\"Product customer review\")\n",
    "class Phone(Product):\n",
    "    def __init__(self,price,brand,camera):\n",
    "        print(\"Inside phone constructor\")\n",
    "        self.price = price\n",
    "        self.brand = brand\n",
    "        self.camera=camera\n",
    "    def buy(self):\n",
    "        print(\"Buying a phone\")\n",
    "\n",
    "class SmartPhone(Phone):\n",
    "    pass\n",
    "\n",
    "s = SmartPhone(20000,\"Apple\",13)\n",
    "p = Phone(1000,\"Samsung\",1)\n",
    "\n",
    "s.buy()\n",
    "s.review()\n",
    "p.review()"
   ]
  },
  {
   "cell_type": "code",
   "execution_count": 96,
   "id": "dd739495",
   "metadata": {},
   "outputs": [
    {
     "name": "stdout",
     "output_type": "stream",
     "text": [
      "Inside phone constructor\n"
     ]
    }
   ],
   "source": [
    "#hierarchical\n",
    "class Phone(Product):\n",
    "    def __init__(self,price,brand,camera):\n",
    "        print(\"Inside phone constructor\")\n",
    "        self.price = price\n",
    "        self.brand = brand\n",
    "        self.camera=camera\n",
    "    def buy(self):\n",
    "        print(\"Buying a phone\")\n",
    "\n",
    "class SmartPhone(Phone):\n",
    "    pass\n",
    "class FeaturePhone(Phone):\n",
    "    pass\n",
    "\n",
    "s = SmartPhone(20000,\"Apple\",13)"
   ]
  },
  {
   "cell_type": "code",
   "execution_count": 97,
   "id": "9c62c50c",
   "metadata": {},
   "outputs": [
    {
     "name": "stdout",
     "output_type": "stream",
     "text": [
      "Inside phone constructor\n",
      "Buying a phone\n",
      "Product customer review\n"
     ]
    }
   ],
   "source": [
    "#multiple inheritence\n",
    "class Product:\n",
    "    def review(self):\n",
    "        print(\"Product customer review\")\n",
    "class Phone(Product):\n",
    "    def __init__(self,price,brand,camera):\n",
    "        print(\"Inside phone constructor\")\n",
    "        self.price = price\n",
    "        self.brand = brand\n",
    "        self.camera=camera\n",
    "    def buy(self):\n",
    "        print(\"Buying a phone\")\n",
    "\n",
    "class SmartPhone(Phone, Product):\n",
    "    pass\n",
    "\n",
    "s = SmartPhone(20000,\"Apple\",13)\n",
    "s.buy()\n",
    "s.review()"
   ]
  },
  {
   "cell_type": "code",
   "execution_count": null,
   "id": "3e9659bd",
   "metadata": {},
   "outputs": [
    {
     "name": "stdout",
     "output_type": "stream",
     "text": [
      "Inside phone constructor\n",
      "Buying a phone\n"
     ]
    }
   ],
   "source": [
    "#METHOD RESERVATION ORDER (MRO)\n",
    "class Product:\n",
    "    def buy(self):\n",
    "        print(\"Product customer bought\")\n",
    "class Phone(Product):\n",
    "    def __init__(self,price,brand,camera):\n",
    "        print(\"Inside phone constructor\")\n",
    "        self.price = price\n",
    "        self.brand = brand\n",
    "        self.camera=camera\n",
    "    def buy(self):\n",
    "        print(\"Buying a phone\")\n",
    "\n",
    "class SmartPhone(Phone, Product): #priority: Phone > Product\n",
    "    pass\n",
    "\n",
    "s = SmartPhone(20000,\"Apple\",13)\n",
    "s.buy()"
   ]
  },
  {
   "cell_type": "code",
   "execution_count": 100,
   "id": "57182652",
   "metadata": {},
   "outputs": [
    {
     "name": "stdout",
     "output_type": "stream",
     "text": [
      "70\n"
     ]
    }
   ],
   "source": [
    "class A:\n",
    "    def m1(self):\n",
    "        return 20\n",
    "class B(A):\n",
    "    def m1(self):\n",
    "        return 30\n",
    "    def m2(self):\n",
    "        return 40\n",
    "class C(B):\n",
    "    def m2(self):\n",
    "        return 20\n",
    "obj1=A()\n",
    "obj2=B()\n",
    "obj3=C()\n",
    "print(obj1.m1()+obj3.m1()+obj3.m2())"
   ]
  },
  {
   "cell_type": "code",
   "execution_count": null,
   "id": "84cfe3e0",
   "metadata": {},
   "outputs": [
    {
     "ename": "RecursionError",
     "evalue": "maximum recursion depth exceeded",
     "output_type": "error",
     "traceback": [
      "\u001b[31m---------------------------------------------------------------------------\u001b[39m",
      "\u001b[31mRecursionError\u001b[39m                            Traceback (most recent call last)",
      "\u001b[36mCell\u001b[39m\u001b[36m \u001b[39m\u001b[32mIn[102]\u001b[39m\u001b[32m, line 13\u001b[39m\n\u001b[32m     11\u001b[39m         \u001b[38;5;28;01mreturn\u001b[39;00m val\n\u001b[32m     12\u001b[39m obj=C()\n\u001b[32m---> \u001b[39m\u001b[32m13\u001b[39m \u001b[38;5;28mprint\u001b[39m(obj.m1())\n",
      "\u001b[36mCell\u001b[39m\u001b[36m \u001b[39m\u001b[32mIn[102]\u001b[39m\u001b[32m, line 10\u001b[39m, in \u001b[36mC.m1\u001b[39m\u001b[34m(self)\u001b[39m\n\u001b[32m      9\u001b[39m \u001b[38;5;28;01mdef\u001b[39;00m\u001b[38;5;250m \u001b[39m\u001b[34mm1\u001b[39m(\u001b[38;5;28mself\u001b[39m):\n\u001b[32m---> \u001b[39m\u001b[32m10\u001b[39m     val=\u001b[38;5;28mself\u001b[39m.m1()+\u001b[32m20\u001b[39m\n\u001b[32m     11\u001b[39m     \u001b[38;5;28;01mreturn\u001b[39;00m val\n",
      "\u001b[36mCell\u001b[39m\u001b[36m \u001b[39m\u001b[32mIn[102]\u001b[39m\u001b[32m, line 10\u001b[39m, in \u001b[36mC.m1\u001b[39m\u001b[34m(self)\u001b[39m\n\u001b[32m      9\u001b[39m \u001b[38;5;28;01mdef\u001b[39;00m\u001b[38;5;250m \u001b[39m\u001b[34mm1\u001b[39m(\u001b[38;5;28mself\u001b[39m):\n\u001b[32m---> \u001b[39m\u001b[32m10\u001b[39m     val=\u001b[38;5;28mself\u001b[39m.m1()+\u001b[32m20\u001b[39m\n\u001b[32m     11\u001b[39m     \u001b[38;5;28;01mreturn\u001b[39;00m val\n",
      "    \u001b[31m[... skipping similar frames: C.m1 at line 10 (2970 times)]\u001b[39m\n",
      "\u001b[36mCell\u001b[39m\u001b[36m \u001b[39m\u001b[32mIn[102]\u001b[39m\u001b[32m, line 10\u001b[39m, in \u001b[36mC.m1\u001b[39m\u001b[34m(self)\u001b[39m\n\u001b[32m      9\u001b[39m \u001b[38;5;28;01mdef\u001b[39;00m\u001b[38;5;250m \u001b[39m\u001b[34mm1\u001b[39m(\u001b[38;5;28mself\u001b[39m):\n\u001b[32m---> \u001b[39m\u001b[32m10\u001b[39m     val=\u001b[38;5;28mself\u001b[39m.m1()+\u001b[32m20\u001b[39m\n\u001b[32m     11\u001b[39m     \u001b[38;5;28;01mreturn\u001b[39;00m val\n",
      "\u001b[31mRecursionError\u001b[39m: maximum recursion depth exceeded"
     ]
    }
   ],
   "source": [
    "class A:\n",
    "    def m1(self):\n",
    "        return 20\n",
    "class B(A):\n",
    "    def m1(self):\n",
    "        val=super().m1()+30\n",
    "        return val\n",
    "class C(B):\n",
    "    def m1(self):\n",
    "        val=self.m1()+20\n",
    "        return val\n",
    "obj=C()\n",
    "print(obj.m1()) #keep adding(class c)"
   ]
  },
  {
   "cell_type": "code",
   "execution_count": null,
   "id": "574d86e6",
   "metadata": {},
   "outputs": [
    {
     "ename": "TypeError",
     "evalue": "Geometry.area() missing 1 required positional argument: 'b'",
     "output_type": "error",
     "traceback": [
      "\u001b[31m---------------------------------------------------------------------------\u001b[39m",
      "\u001b[31mTypeError\u001b[39m                                 Traceback (most recent call last)",
      "\u001b[36mCell\u001b[39m\u001b[36m \u001b[39m\u001b[32mIn[105]\u001b[39m\u001b[32m, line 8\u001b[39m\n\u001b[32m      6\u001b[39m         \u001b[38;5;28;01mreturn\u001b[39;00m l*b\n\u001b[32m      7\u001b[39m obj = Geometry()\n\u001b[32m----> \u001b[39m\u001b[32m8\u001b[39m obj.area(\u001b[32m4\u001b[39m)\n",
      "\u001b[31mTypeError\u001b[39m: Geometry.area() missing 1 required positional argument: 'b'"
     ]
    }
   ],
   "source": [
    "#Method Overloading\n",
    "class Geometry:\n",
    "    def area(self,radius):\n",
    "        return 3.14*radius*radius\n",
    "    def area(self,l,b):\n",
    "        return l*b\n",
    "obj = Geometry()\n",
    "obj.area(4)\n",
    "#this works in java but not in python"
   ]
  },
  {
   "cell_type": "markdown",
   "id": "cab0b8a7",
   "metadata": {},
   "source": [
    "Overloading not possible in Python but...\n"
   ]
  },
  {
   "cell_type": "code",
   "execution_count": 108,
   "id": "6d713b87",
   "metadata": {},
   "outputs": [
    {
     "name": "stdout",
     "output_type": "stream",
     "text": [
      "circle 50.24\n",
      "rectangle 20\n"
     ]
    }
   ],
   "source": [
    "class Geometry:\n",
    "    def area(self,a,b=0):\n",
    "        if b==0:\n",
    "            print(\"circle\", 3.14*a*a)\n",
    "        else:\n",
    "            print(\"rectangle\", a*b)\n",
    "obj = Geometry()\n",
    "obj.area(4)\n",
    "obj.area(4,5)"
   ]
  },
  {
   "cell_type": "code",
   "execution_count": 109,
   "id": "d9d77e49",
   "metadata": {},
   "outputs": [
    {
     "name": "stdout",
     "output_type": "stream",
     "text": [
      "76/45\n",
      "-4/45\n",
      "32/45\n",
      "36/40\n"
     ]
    }
   ],
   "source": [
    "#operator overloading\n",
    "#using magic method ex-\n",
    "#create a new datatype (fraction)\n",
    "\n",
    "class Fraction:\n",
    "    def __init__(self, n, d):\n",
    "        self.num = n\n",
    "        self.den = d\n",
    "    def __str__(self):\n",
    "        return \"{}/{}\".format(self.num, self.den)\n",
    "    def __add__(self, other):\n",
    "        temp_num = self.num*other.den+other.num*self.den\n",
    "        temp_den = self.den*other.den\n",
    "        return \"{}/{}\".format(temp_num, temp_den)\n",
    "    def __sub__(self, other):\n",
    "        temp_num = self.num*other.den-other.num*self.den\n",
    "        temp_den = self.den*other.den\n",
    "        return \"{}/{}\".format(temp_num, temp_den)\n",
    "    def __mul__(self, other):\n",
    "        temp_num = self.num*other.num\n",
    "        temp_den = self.den*other.den\n",
    "        return \"{}/{}\".format(temp_num, temp_den)\n",
    "    def __truediv__(self, other):\n",
    "        temp_num = self.num*other.den\n",
    "        temp_den = other.num*self.den\n",
    "        return \"{}/{}\".format(temp_num, temp_den)\n",
    "\n",
    "x = Fraction(4,5)\n",
    "y = Fraction(8,9)\n",
    "print(x+y)\n",
    "print(x-y)\n",
    "print(x*y)\n",
    "print(x/y)"
   ]
  },
  {
   "cell_type": "code",
   "execution_count": null,
   "id": "9014b589",
   "metadata": {},
   "outputs": [],
   "source": []
  }
 ],
 "metadata": {
  "kernelspec": {
   "display_name": "projenv",
   "language": "python",
   "name": "python3"
  },
  "language_info": {
   "codemirror_mode": {
    "name": "ipython",
    "version": 3
   },
   "file_extension": ".py",
   "mimetype": "text/x-python",
   "name": "python",
   "nbconvert_exporter": "python",
   "pygments_lexer": "ipython3",
   "version": "3.11.13"
  }
 },
 "nbformat": 4,
 "nbformat_minor": 5
}
